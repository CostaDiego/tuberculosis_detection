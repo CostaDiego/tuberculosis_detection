{
 "cells": [
  {
   "cell_type": "code",
   "execution_count": 1,
   "id": "a294499d-5f3d-43a1-a51e-78321db6a253",
   "metadata": {},
   "outputs": [],
   "source": [
    "import torch\n",
    "import torch.nn as nn\n",
    "import torch.optim as optim\n",
    "from torchvision import transforms\n",
    "from torchvision import models\n",
    "from torch.utils.data import DataLoader\n",
    "import numpy as np\n",
    "\n",
    "from utils import load_dataframe, show_images\n",
    "from tuberculosis_dataset import TuberculosisDataset\n",
    "from modules import VGG16DoubleHeadClassifier, VGG16SingleHeadClassifier\n",
    "from modules import get_2heads_criterion"
   ]
  },
  {
   "cell_type": "code",
   "execution_count": 2,
   "id": "5499bfaf-eb70-4236-90f5-916d7cd190c8",
   "metadata": {},
   "outputs": [],
   "source": [
    "#Model Hiperparameters\n",
    "EPOCHS=50\n",
    "BATCH_SIZE = 16\n",
    "IMG_SIZE = (224,224)\n",
    "LR = 1e-3\n",
    "\n",
    "device = 'cuda' if torch.cuda.is_available() else 'cpu'\n",
    "FREEZE_FEATURES = True\n",
    "\n",
    "# File paths\n",
    "dataset_description_path = \"dataset_description.yaml\""
   ]
  },
  {
   "cell_type": "code",
   "execution_count": 3,
   "id": "40e56a51-c1f4-48ed-8862-e4c0dd65af43",
   "metadata": {},
   "outputs": [],
   "source": [
    "tb_df = load_dataframe(dataset_description_path)"
   ]
  },
  {
   "cell_type": "code",
   "execution_count": 4,
   "id": "100e76ee-541d-40ad-b1bc-b0643a9fa5ea",
   "metadata": {},
   "outputs": [
    {
     "data": {
      "text/html": [
       "<div>\n",
       "<style scoped>\n",
       "    .dataframe tbody tr th:only-of-type {\n",
       "        vertical-align: middle;\n",
       "    }\n",
       "\n",
       "    .dataframe tbody tr th {\n",
       "        vertical-align: top;\n",
       "    }\n",
       "\n",
       "    .dataframe thead th {\n",
       "        text-align: right;\n",
       "    }\n",
       "</style>\n",
       "<table border=\"1\" class=\"dataframe\">\n",
       "  <thead>\n",
       "    <tr style=\"text-align: right;\">\n",
       "      <th></th>\n",
       "      <th>file</th>\n",
       "      <th>path</th>\n",
       "      <th>abnormal</th>\n",
       "      <th>tuberculosis</th>\n",
       "    </tr>\n",
       "  </thead>\n",
       "  <tbody>\n",
       "    <tr>\n",
       "      <th>0</th>\n",
       "      <td>00000562_000.png</td>\n",
       "      <td>dataset/anormal-xr-no_tb/00000562_000.png</td>\n",
       "      <td>1</td>\n",
       "      <td>0</td>\n",
       "    </tr>\n",
       "    <tr>\n",
       "      <th>1</th>\n",
       "      <td>00000199_002.png</td>\n",
       "      <td>dataset/anormal-xr-no_tb/00000199_002.png</td>\n",
       "      <td>1</td>\n",
       "      <td>0</td>\n",
       "    </tr>\n",
       "    <tr>\n",
       "      <th>2</th>\n",
       "      <td>00000628_000.png</td>\n",
       "      <td>dataset/anormal-xr-no_tb/00000628_000.png</td>\n",
       "      <td>1</td>\n",
       "      <td>0</td>\n",
       "    </tr>\n",
       "    <tr>\n",
       "      <th>3</th>\n",
       "      <td>00000897_000.png</td>\n",
       "      <td>dataset/anormal-xr-no_tb/00000897_000.png</td>\n",
       "      <td>1</td>\n",
       "      <td>0</td>\n",
       "    </tr>\n",
       "    <tr>\n",
       "      <th>4</th>\n",
       "      <td>00000830_006.png</td>\n",
       "      <td>dataset/anormal-xr-no_tb/00000830_006.png</td>\n",
       "      <td>1</td>\n",
       "      <td>0</td>\n",
       "    </tr>\n",
       "    <tr>\n",
       "      <th>...</th>\n",
       "      <td>...</td>\n",
       "      <td>...</td>\n",
       "      <td>...</td>\n",
       "      <td>...</td>\n",
       "    </tr>\n",
       "    <tr>\n",
       "      <th>15753</th>\n",
       "      <td>Tuberculosis-49.png</td>\n",
       "      <td>dataset/TB_Chest_Radiography_Database/Tubercul...</td>\n",
       "      <td>1</td>\n",
       "      <td>1</td>\n",
       "    </tr>\n",
       "    <tr>\n",
       "      <th>15754</th>\n",
       "      <td>Tuberculosis-127.png</td>\n",
       "      <td>dataset/TB_Chest_Radiography_Database/Tubercul...</td>\n",
       "      <td>1</td>\n",
       "      <td>1</td>\n",
       "    </tr>\n",
       "    <tr>\n",
       "      <th>15755</th>\n",
       "      <td>Tuberculosis-166.png</td>\n",
       "      <td>dataset/TB_Chest_Radiography_Database/Tubercul...</td>\n",
       "      <td>1</td>\n",
       "      <td>1</td>\n",
       "    </tr>\n",
       "    <tr>\n",
       "      <th>15756</th>\n",
       "      <td>Tuberculosis-237.png</td>\n",
       "      <td>dataset/TB_Chest_Radiography_Database/Tubercul...</td>\n",
       "      <td>1</td>\n",
       "      <td>1</td>\n",
       "    </tr>\n",
       "    <tr>\n",
       "      <th>15757</th>\n",
       "      <td>Tuberculosis-112.png</td>\n",
       "      <td>dataset/TB_Chest_Radiography_Database/Tubercul...</td>\n",
       "      <td>1</td>\n",
       "      <td>1</td>\n",
       "    </tr>\n",
       "  </tbody>\n",
       "</table>\n",
       "<p>15758 rows × 4 columns</p>\n",
       "</div>"
      ],
      "text/plain": [
       "                       file  \\\n",
       "0          00000562_000.png   \n",
       "1          00000199_002.png   \n",
       "2          00000628_000.png   \n",
       "3          00000897_000.png   \n",
       "4          00000830_006.png   \n",
       "...                     ...   \n",
       "15753   Tuberculosis-49.png   \n",
       "15754  Tuberculosis-127.png   \n",
       "15755  Tuberculosis-166.png   \n",
       "15756  Tuberculosis-237.png   \n",
       "15757  Tuberculosis-112.png   \n",
       "\n",
       "                                                    path  abnormal  \\\n",
       "0              dataset/anormal-xr-no_tb/00000562_000.png         1   \n",
       "1              dataset/anormal-xr-no_tb/00000199_002.png         1   \n",
       "2              dataset/anormal-xr-no_tb/00000628_000.png         1   \n",
       "3              dataset/anormal-xr-no_tb/00000897_000.png         1   \n",
       "4              dataset/anormal-xr-no_tb/00000830_006.png         1   \n",
       "...                                                  ...       ...   \n",
       "15753  dataset/TB_Chest_Radiography_Database/Tubercul...         1   \n",
       "15754  dataset/TB_Chest_Radiography_Database/Tubercul...         1   \n",
       "15755  dataset/TB_Chest_Radiography_Database/Tubercul...         1   \n",
       "15756  dataset/TB_Chest_Radiography_Database/Tubercul...         1   \n",
       "15757  dataset/TB_Chest_Radiography_Database/Tubercul...         1   \n",
       "\n",
       "       tuberculosis  \n",
       "0                 0  \n",
       "1                 0  \n",
       "2                 0  \n",
       "3                 0  \n",
       "4                 0  \n",
       "...             ...  \n",
       "15753             1  \n",
       "15754             1  \n",
       "15755             1  \n",
       "15756             1  \n",
       "15757             1  \n",
       "\n",
       "[15758 rows x 4 columns]"
      ]
     },
     "execution_count": 4,
     "metadata": {},
     "output_type": "execute_result"
    }
   ],
   "source": [
    "tb_df"
   ]
  },
  {
   "cell_type": "code",
   "execution_count": 5,
   "id": "88e18c9f-dff3-41ec-b68f-c0a3df4f258b",
   "metadata": {},
   "outputs": [],
   "source": [
    "total = tb_df.count()"
   ]
  },
  {
   "cell_type": "code",
   "execution_count": 6,
   "id": "e75b643f-52bf-4b10-9e6e-7d9304ea5ed8",
   "metadata": {},
   "outputs": [
    {
     "data": {
      "text/plain": [
       "file            15758\n",
       "path            15758\n",
       "abnormal        15758\n",
       "tuberculosis    15758\n",
       "dtype: int64"
      ]
     },
     "execution_count": 6,
     "metadata": {},
     "output_type": "execute_result"
    }
   ],
   "source": [
    "total"
   ]
  },
  {
   "cell_type": "code",
   "execution_count": 7,
   "id": "d12a522d-d1df-4e5d-b7ca-377419fb878f",
   "metadata": {},
   "outputs": [],
   "source": [
    "data_distribution = tb_df[['abnormal', 'tuberculosis']].value_counts()"
   ]
  },
  {
   "cell_type": "code",
   "execution_count": 8,
   "id": "5e8ed1cc-46a4-4d8f-9611-c37b434ddc3e",
   "metadata": {},
   "outputs": [
    {
     "data": {
      "text/plain": [
       "<AxesSubplot: xlabel='abnormal,tuberculosis'>"
      ]
     },
     "execution_count": 8,
     "metadata": {},
     "output_type": "execute_result"
    },
    {
     "data": {
      "image/png": "[encoded data removed]",
      "text/plain": [
       "<Figure size 640x480 with 1 Axes>"
      ]
     },
     "metadata": {},
     "output_type": "display_data"
    }
   ],
   "source": [
    "data_distribution.plot(kind='bar')"
   ]
  },
  {
   "cell_type": "code",
   "execution_count": 9,
   "id": "4c03925d-9c1f-49b9-97d7-b2455e7c856b",
   "metadata": {},
   "outputs": [],
   "source": [
    "##Initialize Dataset\n",
    "imgs_transforms = transforms.Compose([\n",
    "    transforms.Resize(IMG_SIZE),\n",
    "    transforms.ToTensor()\n",
    "])\n",
    "tb_dataset = TuberculosisDataset(dataframe=tb_df, transforms=imgs_transforms)\n",
    "\n",
    "train_loader = DataLoader(tb_dataset, batch_size=BATCH_SIZE, shuffle=True)"
   ]
  },
  {
   "cell_type": "code",
   "execution_count": 10,
   "id": "8d043ff3-397a-4bb9-a0ae-f21ec9b212e3",
   "metadata": {},
   "outputs": [],
   "source": [
    "images, labels = next(iter(train_loader))\n",
    "images = [np.transpose(img.numpy(), (1, 2, 0)) for img in images]\n",
    "labels = labels.numpy()\n",
    "\n",
    "show_images(images, labels)"
   ]
  },
  {
   "cell_type": "code",
   "execution_count": 11,
   "id": "12a4b2b3-803d-465c-986d-4e5a5b005154",
   "metadata": {},
   "outputs": [
    {
     "name": "stdout",
     "output_type": "stream",
     "text": [
      "VGG(\n",
      "  (features): Sequential(\n",
      "    (0): Conv2d(3, 64, kernel_size=(3, 3), stride=(1, 1), padding=(1, 1))\n",
      "    (1): ReLU(inplace=True)\n",
      "    (2): Conv2d(64, 64, kernel_size=(3, 3), stride=(1, 1), padding=(1, 1))\n",
      "    (3): ReLU(inplace=True)\n",
      "    (4): MaxPool2d(kernel_size=2, stride=2, padding=0, dilation=1, ceil_mode=False)\n",
      "    (5): Conv2d(64, 128, kernel_size=(3, 3), stride=(1, 1), padding=(1, 1))\n",
      "    (6): ReLU(inplace=True)\n",
      "    (7): Conv2d(128, 128, kernel_size=(3, 3), stride=(1, 1), padding=(1, 1))\n",
      "    (8): ReLU(inplace=True)\n",
      "    (9): MaxPool2d(kernel_size=2, stride=2, padding=0, dilation=1, ceil_mode=False)\n",
      "    (10): Conv2d(128, 256, kernel_size=(3, 3), stride=(1, 1), padding=(1, 1))\n",
      "    (11): ReLU(inplace=True)\n",
      "    (12): Conv2d(256, 256, kernel_size=(3, 3), stride=(1, 1), padding=(1, 1))\n",
      "    (13): ReLU(inplace=True)\n",
      "    (14): Conv2d(256, 256, kernel_size=(3, 3), stride=(1, 1), padding=(1, 1))\n",
      "    (15): ReLU(inplace=True)\n",
      "    (16): MaxPool2d(kernel_size=2, stride=2, padding=0, dilation=1, ceil_mode=False)\n",
      "    (17): Conv2d(256, 512, kernel_size=(3, 3), stride=(1, 1), padding=(1, 1))\n",
      "    (18): ReLU(inplace=True)\n",
      "    (19): Conv2d(512, 512, kernel_size=(3, 3), stride=(1, 1), padding=(1, 1))\n",
      "    (20): ReLU(inplace=True)\n",
      "    (21): Conv2d(512, 512, kernel_size=(3, 3), stride=(1, 1), padding=(1, 1))\n",
      "    (22): ReLU(inplace=True)\n",
      "    (23): MaxPool2d(kernel_size=2, stride=2, padding=0, dilation=1, ceil_mode=False)\n",
      "    (24): Conv2d(512, 512, kernel_size=(3, 3), stride=(1, 1), padding=(1, 1))\n",
      "    (25): ReLU(inplace=True)\n",
      "    (26): Conv2d(512, 512, kernel_size=(3, 3), stride=(1, 1), padding=(1, 1))\n",
      "    (27): ReLU(inplace=True)\n",
      "    (28): Conv2d(512, 512, kernel_size=(3, 3), stride=(1, 1), padding=(1, 1))\n",
      "    (29): ReLU(inplace=True)\n",
      "    (30): MaxPool2d(kernel_size=2, stride=2, padding=0, dilation=1, ceil_mode=False)\n",
      "  )\n",
      "  (avgpool): AdaptiveAvgPool2d(output_size=(7, 7))\n",
      "  (classifier): Sequential(\n",
      "    (0): Linear(in_features=25088, out_features=4096, bias=True)\n",
      "    (1): ReLU(inplace=True)\n",
      "    (2): Dropout(p=0.5, inplace=False)\n",
      "    (3): Linear(in_features=4096, out_features=4096, bias=True)\n",
      "    (4): ReLU(inplace=True)\n",
      "    (5): Dropout(p=0.5, inplace=False)\n",
      "    (6): Linear(in_features=4096, out_features=1000, bias=True)\n",
      "  )\n",
      ")\n"
     ]
    }
   ],
   "source": [
    "## Define the model\n",
    "\n",
    "model = models.vgg16(weights=models.VGG16_Weights.IMAGENET1K_V1)\n",
    "print(model)"
   ]
  },
  {
   "cell_type": "code",
   "execution_count": 12,
   "id": "7d5298dd-23f3-4d71-8358-27e2ca6b295b",
   "metadata": {},
   "outputs": [
    {
     "name": "stdout",
     "output_type": "stream",
     "text": [
      "VGG(\n",
      "  (features): Sequential(\n",
      "    (0): Conv2d(3, 64, kernel_size=(3, 3), stride=(1, 1), padding=(1, 1))\n",
      "    (1): ReLU(inplace=True)\n",
      "    (2): Conv2d(64, 64, kernel_size=(3, 3), stride=(1, 1), padding=(1, 1))\n",
      "    (3): ReLU(inplace=True)\n",
      "    (4): MaxPool2d(kernel_size=2, stride=2, padding=0, dilation=1, ceil_mode=False)\n",
      "    (5): Conv2d(64, 128, kernel_size=(3, 3), stride=(1, 1), padding=(1, 1))\n",
      "    (6): ReLU(inplace=True)\n",
      "    (7): Conv2d(128, 128, kernel_size=(3, 3), stride=(1, 1), padding=(1, 1))\n",
      "    (8): ReLU(inplace=True)\n",
      "    (9): MaxPool2d(kernel_size=2, stride=2, padding=0, dilation=1, ceil_mode=False)\n",
      "    (10): Conv2d(128, 256, kernel_size=(3, 3), stride=(1, 1), padding=(1, 1))\n",
      "    (11): ReLU(inplace=True)\n",
      "    (12): Conv2d(256, 256, kernel_size=(3, 3), stride=(1, 1), padding=(1, 1))\n",
      "    (13): ReLU(inplace=True)\n",
      "    (14): Conv2d(256, 256, kernel_size=(3, 3), stride=(1, 1), padding=(1, 1))\n",
      "    (15): ReLU(inplace=True)\n",
      "    (16): MaxPool2d(kernel_size=2, stride=2, padding=0, dilation=1, ceil_mode=False)\n",
      "    (17): Conv2d(256, 512, kernel_size=(3, 3), stride=(1, 1), padding=(1, 1))\n",
      "    (18): ReLU(inplace=True)\n",
      "    (19): Conv2d(512, 512, kernel_size=(3, 3), stride=(1, 1), padding=(1, 1))\n",
      "    (20): ReLU(inplace=True)\n",
      "    (21): Conv2d(512, 512, kernel_size=(3, 3), stride=(1, 1), padding=(1, 1))\n",
      "    (22): ReLU(inplace=True)\n",
      "    (23): MaxPool2d(kernel_size=2, stride=2, padding=0, dilation=1, ceil_mode=False)\n",
      "    (24): Conv2d(512, 512, kernel_size=(3, 3), stride=(1, 1), padding=(1, 1))\n",
      "    (25): ReLU(inplace=True)\n",
      "    (26): Conv2d(512, 512, kernel_size=(3, 3), stride=(1, 1), padding=(1, 1))\n",
      "    (27): ReLU(inplace=True)\n",
      "    (28): Conv2d(512, 512, kernel_size=(3, 3), stride=(1, 1), padding=(1, 1))\n",
      "    (29): ReLU(inplace=True)\n",
      "    (30): MaxPool2d(kernel_size=2, stride=2, padding=0, dilation=1, ceil_mode=False)\n",
      "  )\n",
      "  (avgpool): AdaptiveAvgPool2d(output_size=(7, 7))\n",
      "  (classifier): VGG16DoubleHeadClassifier(\n",
      "    (abnormal_head): Sequential(\n",
      "      (0): Linear(in_features=25088, out_features=4096, bias=True)\n",
      "      (1): ReLU(inplace=True)\n",
      "      (2): Dropout(p=0.5, inplace=True)\n",
      "      (3): Linear(in_features=4096, out_features=4096, bias=True)\n",
      "      (4): ReLU(inplace=True)\n",
      "      (5): Dropout(p=0.5, inplace=False)\n",
      "      (6): Linear(in_features=4096, out_features=1, bias=True)\n",
      "      (7): Sigmoid()\n",
      "    )\n",
      "    (tuberculosis_head): Sequential(\n",
      "      (0): Linear(in_features=25088, out_features=4096, bias=True)\n",
      "      (1): ReLU(inplace=True)\n",
      "      (2): Dropout(p=0.5, inplace=True)\n",
      "      (3): Linear(in_features=4096, out_features=4096, bias=True)\n",
      "      (4): ReLU(inplace=True)\n",
      "      (5): Dropout(p=0.5, inplace=False)\n",
      "      (6): Linear(in_features=4096, out_features=1, bias=True)\n",
      "      (7): Sigmoid()\n",
      "    )\n",
      "  )\n",
      ")\n"
     ]
    }
   ],
   "source": [
    "if FREEZE_FEATURES:\n",
    "    for param in model.features.parameters():\n",
    "        param.requires_grad = False\n",
    "\n",
    "model.classifier = VGG16DoubleHeadClassifier()\n",
    "print(model)"
   ]
  },
  {
   "cell_type": "code",
   "execution_count": 13,
   "id": "fa094d28-a561-4ef7-ac29-d91aa2993002",
   "metadata": {},
   "outputs": [],
   "source": [
    "criterion = get_2heads_criterion(nn.BCELoss())\n",
    "if FREEZE_FEATURES:\n",
    "    optimizer = optim.SGD(model.classifier.parameters(), lr=LR, momentum=0.9)\n",
    "else:\n",
    "    optimizer = optim.SGD(model.parameters(), lr=LR, momentum=0.9)"
   ]
  },
  {
   "cell_type": "code",
   "execution_count": null,
   "id": "20876035-9d71-4b4c-8453-960de6149da2",
   "metadata": {},
   "outputs": [],
   "source": []
  },
  {
   "cell_type": "code",
   "execution_count": null,
   "id": "ac20c5af-6870-4918-b3b3-d781e185429b",
   "metadata": {},
   "outputs": [],
   "source": []
  }
 ],
 "metadata": {
  "kernelspec": {
   "display_name": "Tuberculosis - Pytorch",
   "language": "python",
   "name": "pth_tuberculosis"
  },
  "language_info": {
   "codemirror_mode": {
    "name": "ipython",
    "version": 3
   },
   "file_extension": ".py",
   "mimetype": "text/x-python",
   "name": "python",
   "nbconvert_exporter": "python",
   "pygments_lexer": "ipython3",
   "version": "3.10.4"
  }
 },
 "nbformat": 4,
 "nbformat_minor": 5
}
