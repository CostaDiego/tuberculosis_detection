{
 "cells": [
  {
   "cell_type": "markdown",
   "id": "d25bb6f5-df25-4160-9796-6038c780b51b",
   "metadata": {
    "tags": []
   },
   "source": [
    "# Tuberculosis Detection"
   ]
  },
  {
   "cell_type": "code",
   "execution_count": 1,
   "id": "08984a5b-8cbc-4863-8f3d-82b5ba763459",
   "metadata": {},
   "outputs": [
    {
     "ename": "ModuleNotFoundError",
     "evalue": "No module named 'fastai'",
     "output_type": "error",
     "traceback": [
      "\u001b[0;31m---------------------------------------------------------------------------\u001b[0m",
      "\u001b[0;31mModuleNotFoundError\u001b[0m                       Traceback (most recent call last)",
      "Input \u001b[0;32mIn [1]\u001b[0m, in \u001b[0;36m<cell line: 2>\u001b[0;34m()\u001b[0m\n\u001b[1;32m      1\u001b[0m \u001b[38;5;28;01mfrom\u001b[39;00m \u001b[38;5;21;01mutils\u001b[39;00m \u001b[38;5;28;01mimport\u001b[39;00m load_dataframe\n\u001b[0;32m----> 2\u001b[0m \u001b[38;5;28;01mimport\u001b[39;00m \u001b[38;5;21;01mfastai\u001b[39;00m\n\u001b[1;32m      3\u001b[0m \u001b[38;5;28;01mfrom\u001b[39;00m \u001b[38;5;21;01mfastai\u001b[39;00m\u001b[38;5;21;01m.\u001b[39;00m\u001b[38;5;21;01mvision\u001b[39;00m\u001b[38;5;21;01m.\u001b[39;00m\u001b[38;5;21;01mall\u001b[39;00m \u001b[38;5;28;01mimport\u001b[39;00m \u001b[38;5;241m*\u001b[39m\n\u001b[1;32m      4\u001b[0m \u001b[38;5;28;01mfrom\u001b[39;00m \u001b[38;5;21;01msklearn\u001b[39;00m\u001b[38;5;21;01m.\u001b[39;00m\u001b[38;5;21;01mmodel_selection\u001b[39;00m \u001b[38;5;28;01mimport\u001b[39;00m train_test_split\n",
      "\u001b[0;31mModuleNotFoundError\u001b[0m: No module named 'fastai'"
     ]
    }
   ],
   "source": [
    "from utils import load_dataframe\n",
    "import fastai\n",
    "from fastai.vision.all import *\n",
    "from sklearn.model_selection import train_test_split\n",
    "from sklearn.metrics import recall_score"
   ]
  },
  {
   "cell_type": "markdown",
   "id": "f3ca394f-2c41-4a29-abc5-180d5b73e21a",
   "metadata": {
    "tags": []
   },
   "source": [
    "## Generate the dataframe"
   ]
  },
  {
   "cell_type": "code",
   "execution_count": null,
   "id": "4ef63ff0-f9b8-4f72-8809-5c5d0f9c3bc9",
   "metadata": {
    "tags": []
   },
   "outputs": [],
   "source": [
    "dataset_description_path = \"dataset_description.yaml\""
   ]
  },
  {
   "cell_type": "code",
   "execution_count": null,
   "id": "2df32910-9347-4741-adcc-73a64b0bd30e",
   "metadata": {},
   "outputs": [],
   "source": [
    "#Generate dataset from description\n",
    "tb_df = load_dataframe(dataset_description_path)"
   ]
  },
  {
   "cell_type": "code",
   "execution_count": null,
   "id": "e2cbcac6-aa65-452a-8d76-2510f74f264c",
   "metadata": {},
   "outputs": [],
   "source": [
    "tb_df"
   ]
  },
  {
   "cell_type": "code",
   "execution_count": null,
   "id": "a41b4e6e-8ad8-4fbf-8b3a-02348611d9bf",
   "metadata": {},
   "outputs": [],
   "source": [
    "train_test_df, val_df = train_test_split(tb_df, test_size=0.1)"
   ]
  },
  {
   "cell_type": "code",
   "execution_count": null,
   "id": "47064a48-e489-4cfd-b9de-757f561979ea",
   "metadata": {
    "tags": []
   },
   "outputs": [],
   "source": [
    "print(\"Train/Test Dataframe:\", train_test_df.shape)\n",
    "print(\"Validation Dataframe:\", val_df.shape)"
   ]
  },
  {
   "cell_type": "markdown",
   "id": "780148b6-3fa9-4495-99bd-b860bcffda4e",
   "metadata": {
    "tags": []
   },
   "source": [
    "## Configuring the Dataloader"
   ]
  },
  {
   "cell_type": "code",
   "execution_count": null,
   "id": "77c812bc-b3b8-4945-a21d-cdec029f8c70",
   "metadata": {},
   "outputs": [],
   "source": [
    "def train_test_splitter(dataframe):\n",
    "    train_df, test_df = train_test_split(dataframe, test_size=0.2)\n",
    "    train_df.index.tolist()\n",
    "    test_df.index.tolist()\n",
    "    return (train_df, test_df)\n",
    "def get_image_input(row):\n",
    "    return row['path']\n",
    "def get_labels(row):\n",
    "    return row['abnormal'],row['tuberculosis']\n",
    "def get_abnormal(row):\n",
    "    return row['abnormal']\n",
    "def get_tuberculosis(row):\n",
    "    return row['tuberculosis']"
   ]
  },
  {
   "cell_type": "code",
   "execution_count": null,
   "id": "fbddb7fa-9ad3-4004-b2a5-7e21ad0d1544",
   "metadata": {},
   "outputs": [],
   "source": [
    "# tfms = [Normalize.from_stats([0.0692], [0.2051]),  # Normalize the images with the specified mean and standard deviation\n",
    "#         *aug_transforms(do_flip=False, size=128)]  # Add default transformations except for horizontal flip    \n",
    "# dblock = DataBlock(\n",
    "#   blocks=(ImageBlock(cls=PILImageBW), *(2*[CategoryBlock])),      # one image input and three categorical targets\n",
    "#   getters=[ColReader('path'),   # image input\n",
    "#            ColReader('abnormal'),                            # label 1\n",
    "#            ColReader('tuberculosis')],                       # label 2\n",
    "#   splitter=train_test_splitter,                 # train/validation split\n",
    "#   batch_tfms=tfms)                                           # Add normalization and augmentations  \n",
    "# dls = dblock.dataloaders(train_test_df, bs=64)   # Create the dataloaders\n",
    "# dls.n_inp = 1  # Set the number of inputs"
   ]
  },
  {
   "cell_type": "code",
   "execution_count": null,
   "id": "1a0d0b3f-2100-488f-90d4-29f4cd91c727",
   "metadata": {},
   "outputs": [],
   "source": [
    "tfms = [Normalize.from_stats([0.0692], [0.2051]),  # Normalize the images with the specified mean and standard deviation\n",
    "        *aug_transforms(do_flip=False, size=128)]  # Add default transformations except for horizontal flip    \n",
    "dblock = DataBlock(\n",
    "  blocks=(ImageBlock(cls=PILImageBW), *(2*[CategoryBlock])),      # one image input and three categorical targets\n",
    "  getters=[ColReader(1),   # image input\n",
    "           ColReader(2),                            # label 1\n",
    "           ColReader(3)],                       # label 2\n",
    "  splitter=train_test_splitter,                 # train/validation split\n",
    "  batch_tfms=tfms)                                           # Add normalization and augmentations  \n",
    "dls = dblock.dataloaders(train_test_df, bs=5)   # Create the dataloaders\n",
    "dls.n_inp = 1  # Set the number of inputs"
   ]
  },
  {
   "cell_type": "code",
   "execution_count": null,
   "id": "5061209a-a2da-4d7a-ab7b-6189b54131ce",
   "metadata": {},
   "outputs": [],
   "source": [
    "dls.show_batch(nrows=1, ncols=3)"
   ]
  },
  {
   "cell_type": "code",
   "execution_count": null,
   "id": "9a130506-fdef-4373-b878-084a94431475",
   "metadata": {},
   "outputs": [],
   "source": [
    "learn = cnn_learner(dls, resnet50, metrics=partial(accuracy_multi, thresh=0.5))"
   ]
  },
  {
   "cell_type": "code",
   "execution_count": null,
   "id": "6b657d42-5f16-4959-8d88-2c8a08ba051e",
   "metadata": {},
   "outputs": [],
   "source": []
  }
 ],
 "metadata": {
  "kernelspec": {
   "display_name": "tuberculosis",
   "language": "python",
   "name": "tuberculosis"
  },
  "language_info": {
   "codemirror_mode": {
    "name": "ipython",
    "version": 3
   },
   "file_extension": ".py",
   "mimetype": "text/x-python",
   "name": "python",
   "nbconvert_exporter": "python",
   "pygments_lexer": "ipython3",
   "version": "3.8.13"
  }
 },
 "nbformat": 4,
 "nbformat_minor": 5
}
