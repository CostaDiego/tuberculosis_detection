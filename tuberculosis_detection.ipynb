{
 "cells": [
  {
   "cell_type": "markdown",
   "id": "d25bb6f5-df25-4160-9796-6038c780b51b",
   "metadata": {
    "tags": []
   },
   "source": [
    "# Tuberculosis Detection"
   ]
  },
  {
   "cell_type": "code",
   "execution_count": 1,
   "id": "08984a5b-8cbc-4863-8f3d-82b5ba763459",
   "metadata": {},
   "outputs": [
    {
     "name": "stderr",
     "output_type": "stream",
     "text": [
      "/home/costadiego/libs/anaconda3/envs/tuberculosis/lib/python3.8/site-packages/tqdm/auto.py:22: TqdmWarning: IProgress not found. Please update jupyter and ipywidgets. See https://ipywidgets.readthedocs.io/en/stable/user_install.html\n",
      "  from .autonotebook import tqdm as notebook_tqdm\n"
     ]
    }
   ],
   "source": [
    "from utils import load_dataframe\n",
    "import fastai\n",
    "from fastai.vision.all import *\n",
    "from sklearn.model_selection import train_test_split\n",
    "from sklearn.metrics import recall_score"
   ]
  },
  {
   "cell_type": "markdown",
   "id": "f3ca394f-2c41-4a29-abc5-180d5b73e21a",
   "metadata": {
    "tags": []
   },
   "source": [
    "## Generate the dataframe"
   ]
  },
  {
   "cell_type": "code",
   "execution_count": 2,
   "id": "4ef63ff0-f9b8-4f72-8809-5c5d0f9c3bc9",
   "metadata": {
    "tags": []
   },
   "outputs": [],
   "source": [
    "dataset_description_path = \"dataset_description.yaml\""
   ]
  },
  {
   "cell_type": "code",
   "execution_count": 3,
   "id": "2df32910-9347-4741-adcc-73a64b0bd30e",
   "metadata": {},
   "outputs": [],
   "source": [
    "#Generate dataset from description\n",
    "tb_df = load_dataframe(dataset_description_path)"
   ]
  },
  {
   "cell_type": "code",
   "execution_count": 4,
   "id": "e2cbcac6-aa65-452a-8d76-2510f74f264c",
   "metadata": {},
   "outputs": [
    {
     "data": {
      "text/html": [
       "<div>\n",
       "<style scoped>\n",
       "    .dataframe tbody tr th:only-of-type {\n",
       "        vertical-align: middle;\n",
       "    }\n",
       "\n",
       "    .dataframe tbody tr th {\n",
       "        vertical-align: top;\n",
       "    }\n",
       "\n",
       "    .dataframe thead th {\n",
       "        text-align: right;\n",
       "    }\n",
       "</style>\n",
       "<table border=\"1\" class=\"dataframe\">\n",
       "  <thead>\n",
       "    <tr style=\"text-align: right;\">\n",
       "      <th></th>\n",
       "      <th>file</th>\n",
       "      <th>path</th>\n",
       "      <th>abnormal</th>\n",
       "      <th>tuberculosis</th>\n",
       "    </tr>\n",
       "  </thead>\n",
       "  <tbody>\n",
       "    <tr>\n",
       "      <th>0</th>\n",
       "      <td>00000562_000.png</td>\n",
       "      <td>dataset/anormal-xr-no_tb/00000562_000.png</td>\n",
       "      <td>1</td>\n",
       "      <td>0</td>\n",
       "    </tr>\n",
       "    <tr>\n",
       "      <th>1</th>\n",
       "      <td>00000199_002.png</td>\n",
       "      <td>dataset/anormal-xr-no_tb/00000199_002.png</td>\n",
       "      <td>1</td>\n",
       "      <td>0</td>\n",
       "    </tr>\n",
       "    <tr>\n",
       "      <th>2</th>\n",
       "      <td>00000628_000.png</td>\n",
       "      <td>dataset/anormal-xr-no_tb/00000628_000.png</td>\n",
       "      <td>1</td>\n",
       "      <td>0</td>\n",
       "    </tr>\n",
       "    <tr>\n",
       "      <th>3</th>\n",
       "      <td>00000897_000.png</td>\n",
       "      <td>dataset/anormal-xr-no_tb/00000897_000.png</td>\n",
       "      <td>1</td>\n",
       "      <td>0</td>\n",
       "    </tr>\n",
       "    <tr>\n",
       "      <th>4</th>\n",
       "      <td>00000830_006.png</td>\n",
       "      <td>dataset/anormal-xr-no_tb/00000830_006.png</td>\n",
       "      <td>1</td>\n",
       "      <td>0</td>\n",
       "    </tr>\n",
       "    <tr>\n",
       "      <th>...</th>\n",
       "      <td>...</td>\n",
       "      <td>...</td>\n",
       "      <td>...</td>\n",
       "      <td>...</td>\n",
       "    </tr>\n",
       "    <tr>\n",
       "      <th>15753</th>\n",
       "      <td>Tuberculosis-49.png</td>\n",
       "      <td>dataset/TB_Chest_Radiography_Database/Tuberculosis/Tuberculosis-49.png</td>\n",
       "      <td>1</td>\n",
       "      <td>1</td>\n",
       "    </tr>\n",
       "    <tr>\n",
       "      <th>15754</th>\n",
       "      <td>Tuberculosis-127.png</td>\n",
       "      <td>dataset/TB_Chest_Radiography_Database/Tuberculosis/Tuberculosis-127.png</td>\n",
       "      <td>1</td>\n",
       "      <td>1</td>\n",
       "    </tr>\n",
       "    <tr>\n",
       "      <th>15755</th>\n",
       "      <td>Tuberculosis-166.png</td>\n",
       "      <td>dataset/TB_Chest_Radiography_Database/Tuberculosis/Tuberculosis-166.png</td>\n",
       "      <td>1</td>\n",
       "      <td>1</td>\n",
       "    </tr>\n",
       "    <tr>\n",
       "      <th>15756</th>\n",
       "      <td>Tuberculosis-237.png</td>\n",
       "      <td>dataset/TB_Chest_Radiography_Database/Tuberculosis/Tuberculosis-237.png</td>\n",
       "      <td>1</td>\n",
       "      <td>1</td>\n",
       "    </tr>\n",
       "    <tr>\n",
       "      <th>15757</th>\n",
       "      <td>Tuberculosis-112.png</td>\n",
       "      <td>dataset/TB_Chest_Radiography_Database/Tuberculosis/Tuberculosis-112.png</td>\n",
       "      <td>1</td>\n",
       "      <td>1</td>\n",
       "    </tr>\n",
       "  </tbody>\n",
       "</table>\n",
       "<p>15758 rows × 4 columns</p>\n",
       "</div>"
      ],
      "text/plain": [
       "                       file  \\\n",
       "0          00000562_000.png   \n",
       "1          00000199_002.png   \n",
       "2          00000628_000.png   \n",
       "3          00000897_000.png   \n",
       "4          00000830_006.png   \n",
       "...                     ...   \n",
       "15753   Tuberculosis-49.png   \n",
       "15754  Tuberculosis-127.png   \n",
       "15755  Tuberculosis-166.png   \n",
       "15756  Tuberculosis-237.png   \n",
       "15757  Tuberculosis-112.png   \n",
       "\n",
       "                                                                          path  \\\n",
       "0                                    dataset/anormal-xr-no_tb/00000562_000.png   \n",
       "1                                    dataset/anormal-xr-no_tb/00000199_002.png   \n",
       "2                                    dataset/anormal-xr-no_tb/00000628_000.png   \n",
       "3                                    dataset/anormal-xr-no_tb/00000897_000.png   \n",
       "4                                    dataset/anormal-xr-no_tb/00000830_006.png   \n",
       "...                                                                        ...   \n",
       "15753   dataset/TB_Chest_Radiography_Database/Tuberculosis/Tuberculosis-49.png   \n",
       "15754  dataset/TB_Chest_Radiography_Database/Tuberculosis/Tuberculosis-127.png   \n",
       "15755  dataset/TB_Chest_Radiography_Database/Tuberculosis/Tuberculosis-166.png   \n",
       "15756  dataset/TB_Chest_Radiography_Database/Tuberculosis/Tuberculosis-237.png   \n",
       "15757  dataset/TB_Chest_Radiography_Database/Tuberculosis/Tuberculosis-112.png   \n",
       "\n",
       "       abnormal  tuberculosis  \n",
       "0             1             0  \n",
       "1             1             0  \n",
       "2             1             0  \n",
       "3             1             0  \n",
       "4             1             0  \n",
       "...         ...           ...  \n",
       "15753         1             1  \n",
       "15754         1             1  \n",
       "15755         1             1  \n",
       "15756         1             1  \n",
       "15757         1             1  \n",
       "\n",
       "[15758 rows x 4 columns]"
      ]
     },
     "execution_count": 4,
     "metadata": {},
     "output_type": "execute_result"
    }
   ],
   "source": [
    "tb_df"
   ]
  },
  {
   "cell_type": "code",
   "execution_count": 5,
   "id": "a41b4e6e-8ad8-4fbf-8b3a-02348611d9bf",
   "metadata": {},
   "outputs": [],
   "source": [
    "train_test_df, val_df = train_test_split(tb_df, test_size=0.1)"
   ]
  },
  {
   "cell_type": "code",
   "execution_count": 6,
   "id": "47064a48-e489-4cfd-b9de-757f561979ea",
   "metadata": {
    "tags": []
   },
   "outputs": [
    {
     "name": "stdout",
     "output_type": "stream",
     "text": [
      "Train/Test Dataframe: (14182, 4)\n",
      "Validation Dataframe: (1576, 4)\n"
     ]
    }
   ],
   "source": [
    "print(\"Train/Test Dataframe:\", train_test_df.shape)\n",
    "print(\"Validation Dataframe:\", val_df.shape)"
   ]
  },
  {
   "cell_type": "markdown",
   "id": "780148b6-3fa9-4495-99bd-b860bcffda4e",
   "metadata": {
    "tags": []
   },
   "source": [
    "## Configuring the Dataloader"
   ]
  },
  {
   "cell_type": "code",
   "execution_count": 7,
   "id": "77c812bc-b3b8-4945-a21d-cdec029f8c70",
   "metadata": {},
   "outputs": [],
   "source": [
    "def train_test_splitter(dataframe):\n",
    "    train_df, test_df = train_test_split(dataframe, test_size=0.2)\n",
    "    train_df.index.tolist()\n",
    "    test_df.index.tolist()\n",
    "    return (train_df, test_df)\n",
    "def get_image_input(row):\n",
    "    return row['path']\n",
    "def get_labels(row):\n",
    "    return row['abnormal'],row['tuberculosis']\n",
    "def get_abnormal(row):\n",
    "    return row['abnormal']\n",
    "def get_tuberculosis(row):\n",
    "    return row['tuberculosis']"
   ]
  },
  {
   "cell_type": "code",
   "execution_count": 8,
   "id": "fbddb7fa-9ad3-4004-b2a5-7e21ad0d1544",
   "metadata": {},
   "outputs": [],
   "source": [
    "# tfms = [Normalize.from_stats([0.0692], [0.2051]),  # Normalize the images with the specified mean and standard deviation\n",
    "#         *aug_transforms(do_flip=False, size=128)]  # Add default transformations except for horizontal flip    \n",
    "# dblock = DataBlock(\n",
    "#   blocks=(ImageBlock(cls=PILImageBW), *(2*[CategoryBlock])),      # one image input and three categorical targets\n",
    "#   getters=[ColReader('path'),   # image input\n",
    "#            ColReader('abnormal'),                            # label 1\n",
    "#            ColReader('tuberculosis')],                       # label 2\n",
    "#   splitter=train_test_splitter,                 # train/validation split\n",
    "#   batch_tfms=tfms)                                           # Add normalization and augmentations  \n",
    "# dls = dblock.dataloaders(train_test_df, bs=64)   # Create the dataloaders\n",
    "# dls.n_inp = 1  # Set the number of inputs"
   ]
  },
  {
   "cell_type": "code",
   "execution_count": 9,
   "id": "1a0d0b3f-2100-488f-90d4-29f4cd91c727",
   "metadata": {
    "collapsed": true,
    "jupyter": {
     "outputs_hidden": true
    },
    "tags": []
   },
   "outputs": [
    {
     "ename": "RuntimeError",
     "evalue": "CUDA error: out of memory\nCUDA kernel errors might be asynchronously reported at some other API call,so the stacktrace below might be incorrect.\nFor debugging consider passing CUDA_LAUNCH_BLOCKING=1.",
     "output_type": "error",
     "traceback": [
      "\u001b[0;31m---------------------------------------------------------------------------\u001b[0m",
      "\u001b[0;31mRuntimeError\u001b[0m                              Traceback (most recent call last)",
      "Input \u001b[0;32mIn [9]\u001b[0m, in \u001b[0;36m<cell line: 1>\u001b[0;34m()\u001b[0m\n\u001b[0;32m----> 1\u001b[0m tfms \u001b[38;5;241m=\u001b[39m [Normalize\u001b[38;5;241m.\u001b[39mfrom_stats([\u001b[38;5;241m0.0692\u001b[39m], [\u001b[38;5;241m0.2051\u001b[39m]),  \u001b[38;5;66;03m# Normalize the images with the specified mean and standard deviation\u001b[39;00m\n\u001b[1;32m      2\u001b[0m         \u001b[38;5;241m*\u001b[39maug_transforms(do_flip\u001b[38;5;241m=\u001b[39m\u001b[38;5;28;01mFalse\u001b[39;00m, size\u001b[38;5;241m=\u001b[39m\u001b[38;5;241m128\u001b[39m)]  \u001b[38;5;66;03m# Add default transformations except for horizontal flip    \u001b[39;00m\n\u001b[1;32m      3\u001b[0m dblock \u001b[38;5;241m=\u001b[39m DataBlock(\n\u001b[1;32m      4\u001b[0m   blocks\u001b[38;5;241m=\u001b[39m(ImageBlock(\u001b[38;5;28mcls\u001b[39m\u001b[38;5;241m=\u001b[39mPILImageBW), \u001b[38;5;241m*\u001b[39m(\u001b[38;5;241m2\u001b[39m\u001b[38;5;241m*\u001b[39m[CategoryBlock])),      \u001b[38;5;66;03m# one image input and three categorical targets\u001b[39;00m\n\u001b[1;32m      5\u001b[0m   getters\u001b[38;5;241m=\u001b[39m[ColReader(\u001b[38;5;241m1\u001b[39m),   \u001b[38;5;66;03m# image input\u001b[39;00m\n\u001b[0;32m   (...)\u001b[0m\n\u001b[1;32m      8\u001b[0m   splitter\u001b[38;5;241m=\u001b[39mtrain_test_splitter,                 \u001b[38;5;66;03m# train/validation split\u001b[39;00m\n\u001b[1;32m      9\u001b[0m   batch_tfms\u001b[38;5;241m=\u001b[39mtfms)                                           \u001b[38;5;66;03m# Add normalization and augmentations  \u001b[39;00m\n\u001b[1;32m     10\u001b[0m dls \u001b[38;5;241m=\u001b[39m dblock\u001b[38;5;241m.\u001b[39mdataloaders(train_test_df, bs\u001b[38;5;241m=\u001b[39m\u001b[38;5;241m5\u001b[39m)   \u001b[38;5;66;03m# Create the dataloaders\u001b[39;00m\n",
      "File \u001b[0;32m~/libs/anaconda3/envs/tuberculosis/lib/python3.8/site-packages/fastai/data/transforms.py:365\u001b[0m, in \u001b[0;36mNormalize.from_stats\u001b[0;34m(cls, mean, std, dim, ndim, cuda)\u001b[0m\n\u001b[1;32m    364\u001b[0m \u001b[38;5;129m@classmethod\u001b[39m\n\u001b[0;32m--> 365\u001b[0m \u001b[38;5;28;01mdef\u001b[39;00m \u001b[38;5;21mfrom_stats\u001b[39m(\u001b[38;5;28mcls\u001b[39m, mean, std, dim\u001b[38;5;241m=\u001b[39m\u001b[38;5;241m1\u001b[39m, ndim\u001b[38;5;241m=\u001b[39m\u001b[38;5;241m4\u001b[39m, cuda\u001b[38;5;241m=\u001b[39m\u001b[38;5;28;01mTrue\u001b[39;00m): \u001b[38;5;28;01mreturn\u001b[39;00m \u001b[38;5;28mcls\u001b[39m(\u001b[38;5;241m*\u001b[39m\u001b[43mbroadcast_vec\u001b[49m\u001b[43m(\u001b[49m\u001b[43mdim\u001b[49m\u001b[43m,\u001b[49m\u001b[43m \u001b[49m\u001b[43mndim\u001b[49m\u001b[43m,\u001b[49m\u001b[43m \u001b[49m\u001b[43mmean\u001b[49m\u001b[43m,\u001b[49m\u001b[43m \u001b[49m\u001b[43mstd\u001b[49m\u001b[43m,\u001b[49m\u001b[43m \u001b[49m\u001b[43mcuda\u001b[49m\u001b[38;5;241;43m=\u001b[39;49m\u001b[43mcuda\u001b[49m\u001b[43m)\u001b[49m)\n",
      "File \u001b[0;32m~/libs/anaconda3/envs/tuberculosis/lib/python3.8/site-packages/fastai/data/transforms.py:355\u001b[0m, in \u001b[0;36mbroadcast_vec\u001b[0;34m(dim, ndim, cuda, *t)\u001b[0m\n\u001b[1;32m    353\u001b[0m v[dim] \u001b[38;5;241m=\u001b[39m \u001b[38;5;241m-\u001b[39m\u001b[38;5;241m1\u001b[39m\n\u001b[1;32m    354\u001b[0m f \u001b[38;5;241m=\u001b[39m to_device \u001b[38;5;28;01mif\u001b[39;00m cuda \u001b[38;5;28;01melse\u001b[39;00m noop\n\u001b[0;32m--> 355\u001b[0m \u001b[38;5;28;01mreturn\u001b[39;00m [f(tensor(o)\u001b[38;5;241m.\u001b[39mview(\u001b[38;5;241m*\u001b[39mv)) \u001b[38;5;28;01mfor\u001b[39;00m o \u001b[38;5;129;01min\u001b[39;00m t]\n",
      "File \u001b[0;32m~/libs/anaconda3/envs/tuberculosis/lib/python3.8/site-packages/fastai/data/transforms.py:355\u001b[0m, in \u001b[0;36m<listcomp>\u001b[0;34m(.0)\u001b[0m\n\u001b[1;32m    353\u001b[0m v[dim] \u001b[38;5;241m=\u001b[39m \u001b[38;5;241m-\u001b[39m\u001b[38;5;241m1\u001b[39m\n\u001b[1;32m    354\u001b[0m f \u001b[38;5;241m=\u001b[39m to_device \u001b[38;5;28;01mif\u001b[39;00m cuda \u001b[38;5;28;01melse\u001b[39;00m noop\n\u001b[0;32m--> 355\u001b[0m \u001b[38;5;28;01mreturn\u001b[39;00m [\u001b[43mf\u001b[49m\u001b[43m(\u001b[49m\u001b[43mtensor\u001b[49m\u001b[43m(\u001b[49m\u001b[43mo\u001b[49m\u001b[43m)\u001b[49m\u001b[38;5;241;43m.\u001b[39;49m\u001b[43mview\u001b[49m\u001b[43m(\u001b[49m\u001b[38;5;241;43m*\u001b[39;49m\u001b[43mv\u001b[49m\u001b[43m)\u001b[49m\u001b[43m)\u001b[49m \u001b[38;5;28;01mfor\u001b[39;00m o \u001b[38;5;129;01min\u001b[39;00m t]\n",
      "File \u001b[0;32m~/libs/anaconda3/envs/tuberculosis/lib/python3.8/site-packages/fastai/torch_core.py:259\u001b[0m, in \u001b[0;36mto_device\u001b[0;34m(b, device, non_blocking)\u001b[0m\n\u001b[1;32m    257\u001b[0m \u001b[38;5;66;03m#         if hasattr(o, \"to_device\"): return o.to_device(device)\u001b[39;00m\n\u001b[1;32m    258\u001b[0m         \u001b[38;5;28;01mreturn\u001b[39;00m o\n\u001b[0;32m--> 259\u001b[0m     \u001b[38;5;28;01mreturn\u001b[39;00m \u001b[43mapply\u001b[49m\u001b[43m(\u001b[49m\u001b[43m_inner\u001b[49m\u001b[43m,\u001b[49m\u001b[43m \u001b[49m\u001b[43mb\u001b[49m\u001b[43m)\u001b[49m\n",
      "File \u001b[0;32m~/libs/anaconda3/envs/tuberculosis/lib/python3.8/site-packages/fastai/torch_core.py:206\u001b[0m, in \u001b[0;36mapply\u001b[0;34m(func, x, *args, **kwargs)\u001b[0m\n\u001b[1;32m    204\u001b[0m \u001b[38;5;28;01mif\u001b[39;00m is_listy(x): \u001b[38;5;28;01mreturn\u001b[39;00m \u001b[38;5;28mtype\u001b[39m(x)([apply(func, o, \u001b[38;5;241m*\u001b[39margs, \u001b[38;5;241m*\u001b[39m\u001b[38;5;241m*\u001b[39mkwargs) \u001b[38;5;28;01mfor\u001b[39;00m o \u001b[38;5;129;01min\u001b[39;00m x])\n\u001b[1;32m    205\u001b[0m \u001b[38;5;28;01mif\u001b[39;00m \u001b[38;5;28misinstance\u001b[39m(x,\u001b[38;5;28mdict\u001b[39m):  \u001b[38;5;28;01mreturn\u001b[39;00m {k: apply(func, v, \u001b[38;5;241m*\u001b[39margs, \u001b[38;5;241m*\u001b[39m\u001b[38;5;241m*\u001b[39mkwargs) \u001b[38;5;28;01mfor\u001b[39;00m k,v \u001b[38;5;129;01min\u001b[39;00m x\u001b[38;5;241m.\u001b[39mitems()}\n\u001b[0;32m--> 206\u001b[0m res \u001b[38;5;241m=\u001b[39m \u001b[43mfunc\u001b[49m\u001b[43m(\u001b[49m\u001b[43mx\u001b[49m\u001b[43m,\u001b[49m\u001b[43m \u001b[49m\u001b[38;5;241;43m*\u001b[39;49m\u001b[43margs\u001b[49m\u001b[43m,\u001b[49m\u001b[43m \u001b[49m\u001b[38;5;241;43m*\u001b[39;49m\u001b[38;5;241;43m*\u001b[39;49m\u001b[43mkwargs\u001b[49m\u001b[43m)\u001b[49m\n\u001b[1;32m    207\u001b[0m \u001b[38;5;28;01mreturn\u001b[39;00m res \u001b[38;5;28;01mif\u001b[39;00m x \u001b[38;5;129;01mis\u001b[39;00m \u001b[38;5;28;01mNone\u001b[39;00m \u001b[38;5;28;01melse\u001b[39;00m retain_type(res, x)\n",
      "File \u001b[0;32m~/libs/anaconda3/envs/tuberculosis/lib/python3.8/site-packages/fastai/torch_core.py:256\u001b[0m, in \u001b[0;36mto_device.<locals>._inner\u001b[0;34m(o)\u001b[0m\n\u001b[1;32m    255\u001b[0m     \u001b[38;5;28;01mdef\u001b[39;00m \u001b[38;5;21m_inner\u001b[39m(o):\n\u001b[0;32m--> 256\u001b[0m         \u001b[38;5;28;01mif\u001b[39;00m \u001b[38;5;28misinstance\u001b[39m(o,Tensor): \u001b[38;5;28;01mreturn\u001b[39;00m \u001b[43mo\u001b[49m\u001b[38;5;241;43m.\u001b[39;49m\u001b[43mto\u001b[49m\u001b[43m(\u001b[49m\u001b[43mdevice\u001b[49m\u001b[43m,\u001b[49m\u001b[43m \u001b[49m\u001b[43mnon_blocking\u001b[49m\u001b[38;5;241;43m=\u001b[39;49m\u001b[43mnon_blocking\u001b[49m\u001b[43m)\u001b[49m\n\u001b[1;32m    257\u001b[0m \u001b[38;5;66;03m#         if hasattr(o, \"to_device\"): return o.to_device(device)\u001b[39;00m\n\u001b[1;32m    258\u001b[0m         \u001b[38;5;28;01mreturn\u001b[39;00m o\n",
      "\u001b[0;31mRuntimeError\u001b[0m: CUDA error: out of memory\nCUDA kernel errors might be asynchronously reported at some other API call,so the stacktrace below might be incorrect.\nFor debugging consider passing CUDA_LAUNCH_BLOCKING=1."
     ]
    }
   ],
   "source": [
    "tfms = [Normalize.from_stats([0.0692], [0.2051]),  # Normalize the images with the specified mean and standard deviation\n",
    "        *aug_transforms(do_flip=False, size=128)]  # Add default transformations except for horizontal flip    \n",
    "dblock = DataBlock(\n",
    "  blocks=(ImageBlock(cls=PILImageBW), *(2*[CategoryBlock])),      # one image input and three categorical targets\n",
    "  getters=[ColReader(1),   # image input\n",
    "           ColReader(2),                            # label 1\n",
    "           ColReader(3)],                       # label 2\n",
    "  splitter=train_test_splitter,                 # train/validation split\n",
    "  batch_tfms=tfms)                                           # Add normalization and augmentations  \n",
    "dls = dblock.dataloaders(train_test_df, bs=5)   # Create the dataloaders\n",
    "dls.n_inp = 1  # Set the number of inputs"
   ]
  },
  {
   "cell_type": "code",
   "execution_count": null,
   "id": "5061209a-a2da-4d7a-ab7b-6189b54131ce",
   "metadata": {},
   "outputs": [],
   "source": [
    "dls.show_batch(nrows=1, ncols=3)"
   ]
  },
  {
   "cell_type": "code",
   "execution_count": null,
   "id": "9a130506-fdef-4373-b878-084a94431475",
   "metadata": {},
   "outputs": [],
   "source": [
    "learn = cnn_learner(dls, resnet50, metrics=partial(accuracy_multi, thresh=0.5))"
   ]
  },
  {
   "cell_type": "code",
   "execution_count": null,
   "id": "6b657d42-5f16-4959-8d88-2c8a08ba051e",
   "metadata": {},
   "outputs": [],
   "source": []
  }
 ],
 "metadata": {
  "kernelspec": {
   "display_name": "tuberculosis",
   "language": "python",
   "name": "tuberculosis"
  },
  "language_info": {
   "codemirror_mode": {
    "name": "ipython",
    "version": 3
   },
   "file_extension": ".py",
   "mimetype": "text/x-python",
   "name": "python",
   "nbconvert_exporter": "python",
   "pygments_lexer": "ipython3",
   "version": "3.8.13"
  }
 },
 "nbformat": 4,
 "nbformat_minor": 5
}
