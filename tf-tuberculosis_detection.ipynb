{
 "cells": [
  {
   "cell_type": "markdown",
   "id": "cac00aa2-9bb2-4706-b4c6-ad2702a84297",
   "metadata": {
    "tags": []
   },
   "source": [
    "# Tuberculosis Detection - Tensorflow"
   ]
  },
  {
   "cell_type": "markdown",
   "id": "52540c8c-226f-4f3c-9eba-a8de679787e6",
   "metadata": {},
   "source": [
    "## Import and Define Constants"
   ]
  },
  {
   "cell_type": "code",
   "execution_count": 1,
   "id": "6f3dbce4-58df-44c7-9e3a-4d1fcaf28703",
   "metadata": {
    "tags": []
   },
   "outputs": [
    {
     "name": "stderr",
     "output_type": "stream",
     "text": [
      "2022-06-02 14:59:30.241055: I tensorflow/stream_executor/platform/default/dso_loader.cc:49] Successfully opened dynamic library libcudart.so.10.1\n",
      "2022-06-02 14:59:32.375736: I tensorflow/compiler/jit/xla_cpu_device.cc:41] Not creating XLA devices, tf_xla_enable_xla_devices not set\n",
      "2022-06-02 14:59:32.377716: I tensorflow/stream_executor/platform/default/dso_loader.cc:49] Successfully opened dynamic library libcuda.so.1\n",
      "2022-06-02 14:59:32.425693: I tensorflow/stream_executor/cuda/cuda_gpu_executor.cc:941] successful NUMA node read from SysFS had negative value (-1), but there must be at least one NUMA node, so returning NUMA node zero\n",
      "2022-06-02 14:59:32.425842: I tensorflow/core/common_runtime/gpu/gpu_device.cc:1720] Found device 0 with properties: \n",
      "pciBusID: 0000:01:00.0 name: NVIDIA GeForce GTX 1650 computeCapability: 7.5\n",
      "coreClock: 1.56GHz coreCount: 16 deviceMemorySize: 3.82GiB deviceMemoryBandwidth: 119.24GiB/s\n",
      "2022-06-02 14:59:32.425859: I tensorflow/stream_executor/platform/default/dso_loader.cc:49] Successfully opened dynamic library libcudart.so.10.1\n",
      "2022-06-02 14:59:32.428292: I tensorflow/stream_executor/platform/default/dso_loader.cc:49] Successfully opened dynamic library libcublas.so.10\n",
      "2022-06-02 14:59:32.428334: I tensorflow/stream_executor/platform/default/dso_loader.cc:49] Successfully opened dynamic library libcublasLt.so.10\n",
      "2022-06-02 14:59:32.430394: I tensorflow/stream_executor/platform/default/dso_loader.cc:49] Successfully opened dynamic library libcufft.so.10\n",
      "2022-06-02 14:59:32.430753: I tensorflow/stream_executor/platform/default/dso_loader.cc:49] Successfully opened dynamic library libcurand.so.10\n",
      "2022-06-02 14:59:32.432492: I tensorflow/stream_executor/platform/default/dso_loader.cc:49] Successfully opened dynamic library libcusolver.so.10\n",
      "2022-06-02 14:59:32.433369: I tensorflow/stream_executor/platform/default/dso_loader.cc:49] Successfully opened dynamic library libcusparse.so.10\n",
      "2022-06-02 14:59:32.437621: I tensorflow/stream_executor/platform/default/dso_loader.cc:49] Successfully opened dynamic library libcudnn.so.7\n",
      "2022-06-02 14:59:32.437846: I tensorflow/stream_executor/cuda/cuda_gpu_executor.cc:941] successful NUMA node read from SysFS had negative value (-1), but there must be at least one NUMA node, so returning NUMA node zero\n",
      "2022-06-02 14:59:32.438074: I tensorflow/stream_executor/cuda/cuda_gpu_executor.cc:941] successful NUMA node read from SysFS had negative value (-1), but there must be at least one NUMA node, so returning NUMA node zero\n",
      "2022-06-02 14:59:32.438165: I tensorflow/core/common_runtime/gpu/gpu_device.cc:1862] Adding visible gpu devices: 0\n"
     ]
    }
   ],
   "source": [
    "# Import all needed libraries\n",
    "import numpy as np\n",
    "import pandas as pd\n",
    "import tensorflow as tf\n",
    "import matplotlib.pyplot as plt\n",
    "from tensorflow.keras.preprocessing.image import ImageDataGenerator\n",
    "from tensorflow.keras.applications import ResNet50, VGG16\n",
    "from tensorflow.keras.applications.resnet50 import preprocess_input as preprocess_input_resnet50\n",
    "from tensorflow.keras.applications.vgg16 import preprocess_input as preprocess_input_vgg16 \n",
    "from tensorflow.keras.layers import Dense\n",
    "from tensorflow.keras import Model\n",
    "from tensorflow.keras.callbacks import EarlyStopping, ModelCheckpoint, ReduceLROnPlateau\n",
    "from PIL import Image\n",
    "from sklearn.model_selection import train_test_split\n",
    "\n",
    "from utils import load_dataframe\n",
    "\n",
    "#Configure memory usage to the GPU device\n",
    "physical_devices = tf.config.list_physical_devices('GPU') \n",
    "tf.config.experimental.set_memory_growth(physical_devices[0], True)"
   ]
  },
  {
   "cell_type": "code",
   "execution_count": 2,
   "id": "5da12a74-d186-4522-8e19-3037b5c864f2",
   "metadata": {},
   "outputs": [],
   "source": [
    "INPUT_SHAPE = (224,224,3)\n",
    "IMG_SIZE = (224,224)\n",
    "BATCH_SIZE = 6\n",
    "VAL_SIZE = 0.2\n",
    "SEED = 42\n",
    "CHECKPOINT_PATH = 'model/epoch-{epoch}_valloss-{val_loss:.2f}.hdf5'\n",
    "# EPOCHS = 30\n",
    "EPOCHS = 3 # To test whether the model has learned"
   ]
  },
  {
   "cell_type": "code",
   "execution_count": 3,
   "id": "ac927d8f-2f1b-410d-8d18-6288eeddf0cd",
   "metadata": {},
   "outputs": [],
   "source": [
    "dataset_description_path = \"dataset_description.yaml\""
   ]
  },
  {
   "cell_type": "markdown",
   "id": "2a00a061-0a8b-426b-8c57-ab9ed269f1cd",
   "metadata": {
    "tags": []
   },
   "source": [
    "## Generate the dataframe and split in train/val and test"
   ]
  },
  {
   "cell_type": "code",
   "execution_count": 4,
   "id": "60ef9878-3ae8-4083-ab3b-bad0e5f753ae",
   "metadata": {},
   "outputs": [],
   "source": [
    "#Generate dataset from description\n",
    "tb_df = load_dataframe(dataset_description_path)"
   ]
  },
  {
   "cell_type": "code",
   "execution_count": 5,
   "id": "10cb49dd-4d23-4749-8683-e32680736402",
   "metadata": {},
   "outputs": [
    {
     "data": {
      "text/html": [
       "<div>\n",
       "<style scoped>\n",
       "    .dataframe tbody tr th:only-of-type {\n",
       "        vertical-align: middle;\n",
       "    }\n",
       "\n",
       "    .dataframe tbody tr th {\n",
       "        vertical-align: top;\n",
       "    }\n",
       "\n",
       "    .dataframe thead th {\n",
       "        text-align: right;\n",
       "    }\n",
       "</style>\n",
       "<table border=\"1\" class=\"dataframe\">\n",
       "  <thead>\n",
       "    <tr style=\"text-align: right;\">\n",
       "      <th></th>\n",
       "      <th>file</th>\n",
       "      <th>path</th>\n",
       "      <th>abnormal</th>\n",
       "      <th>tuberculosis</th>\n",
       "    </tr>\n",
       "  </thead>\n",
       "  <tbody>\n",
       "    <tr>\n",
       "      <th>0</th>\n",
       "      <td>00000562_000.png</td>\n",
       "      <td>dataset/anormal-xr-no_tb/00000562_000.png</td>\n",
       "      <td>1</td>\n",
       "      <td>0</td>\n",
       "    </tr>\n",
       "    <tr>\n",
       "      <th>1</th>\n",
       "      <td>00000199_002.png</td>\n",
       "      <td>dataset/anormal-xr-no_tb/00000199_002.png</td>\n",
       "      <td>1</td>\n",
       "      <td>0</td>\n",
       "    </tr>\n",
       "    <tr>\n",
       "      <th>2</th>\n",
       "      <td>00000628_000.png</td>\n",
       "      <td>dataset/anormal-xr-no_tb/00000628_000.png</td>\n",
       "      <td>1</td>\n",
       "      <td>0</td>\n",
       "    </tr>\n",
       "    <tr>\n",
       "      <th>3</th>\n",
       "      <td>00000897_000.png</td>\n",
       "      <td>dataset/anormal-xr-no_tb/00000897_000.png</td>\n",
       "      <td>1</td>\n",
       "      <td>0</td>\n",
       "    </tr>\n",
       "    <tr>\n",
       "      <th>4</th>\n",
       "      <td>00000830_006.png</td>\n",
       "      <td>dataset/anormal-xr-no_tb/00000830_006.png</td>\n",
       "      <td>1</td>\n",
       "      <td>0</td>\n",
       "    </tr>\n",
       "    <tr>\n",
       "      <th>...</th>\n",
       "      <td>...</td>\n",
       "      <td>...</td>\n",
       "      <td>...</td>\n",
       "      <td>...</td>\n",
       "    </tr>\n",
       "    <tr>\n",
       "      <th>15753</th>\n",
       "      <td>Tuberculosis-49.png</td>\n",
       "      <td>dataset/TB_Chest_Radiography_Database/Tubercul...</td>\n",
       "      <td>1</td>\n",
       "      <td>1</td>\n",
       "    </tr>\n",
       "    <tr>\n",
       "      <th>15754</th>\n",
       "      <td>Tuberculosis-127.png</td>\n",
       "      <td>dataset/TB_Chest_Radiography_Database/Tubercul...</td>\n",
       "      <td>1</td>\n",
       "      <td>1</td>\n",
       "    </tr>\n",
       "    <tr>\n",
       "      <th>15755</th>\n",
       "      <td>Tuberculosis-166.png</td>\n",
       "      <td>dataset/TB_Chest_Radiography_Database/Tubercul...</td>\n",
       "      <td>1</td>\n",
       "      <td>1</td>\n",
       "    </tr>\n",
       "    <tr>\n",
       "      <th>15756</th>\n",
       "      <td>Tuberculosis-237.png</td>\n",
       "      <td>dataset/TB_Chest_Radiography_Database/Tubercul...</td>\n",
       "      <td>1</td>\n",
       "      <td>1</td>\n",
       "    </tr>\n",
       "    <tr>\n",
       "      <th>15757</th>\n",
       "      <td>Tuberculosis-112.png</td>\n",
       "      <td>dataset/TB_Chest_Radiography_Database/Tubercul...</td>\n",
       "      <td>1</td>\n",
       "      <td>1</td>\n",
       "    </tr>\n",
       "  </tbody>\n",
       "</table>\n",
       "<p>15758 rows × 4 columns</p>\n",
       "</div>"
      ],
      "text/plain": [
       "                       file  \\\n",
       "0          00000562_000.png   \n",
       "1          00000199_002.png   \n",
       "2          00000628_000.png   \n",
       "3          00000897_000.png   \n",
       "4          00000830_006.png   \n",
       "...                     ...   \n",
       "15753   Tuberculosis-49.png   \n",
       "15754  Tuberculosis-127.png   \n",
       "15755  Tuberculosis-166.png   \n",
       "15756  Tuberculosis-237.png   \n",
       "15757  Tuberculosis-112.png   \n",
       "\n",
       "                                                    path  abnormal  \\\n",
       "0              dataset/anormal-xr-no_tb/00000562_000.png         1   \n",
       "1              dataset/anormal-xr-no_tb/00000199_002.png         1   \n",
       "2              dataset/anormal-xr-no_tb/00000628_000.png         1   \n",
       "3              dataset/anormal-xr-no_tb/00000897_000.png         1   \n",
       "4              dataset/anormal-xr-no_tb/00000830_006.png         1   \n",
       "...                                                  ...       ...   \n",
       "15753  dataset/TB_Chest_Radiography_Database/Tubercul...         1   \n",
       "15754  dataset/TB_Chest_Radiography_Database/Tubercul...         1   \n",
       "15755  dataset/TB_Chest_Radiography_Database/Tubercul...         1   \n",
       "15756  dataset/TB_Chest_Radiography_Database/Tubercul...         1   \n",
       "15757  dataset/TB_Chest_Radiography_Database/Tubercul...         1   \n",
       "\n",
       "       tuberculosis  \n",
       "0                 0  \n",
       "1                 0  \n",
       "2                 0  \n",
       "3                 0  \n",
       "4                 0  \n",
       "...             ...  \n",
       "15753             1  \n",
       "15754             1  \n",
       "15755             1  \n",
       "15756             1  \n",
       "15757             1  \n",
       "\n",
       "[15758 rows x 4 columns]"
      ]
     },
     "execution_count": 5,
     "metadata": {},
     "output_type": "execute_result"
    }
   ],
   "source": [
    "tb_df"
   ]
  },
  {
   "cell_type": "code",
   "execution_count": 6,
   "id": "b361942b-e135-407d-a019-be0dcec8ef08",
   "metadata": {},
   "outputs": [],
   "source": [
    "train_df, test_df = train_test_split(tb_df, test_size=0.1)"
   ]
  },
  {
   "cell_type": "code",
   "execution_count": 7,
   "id": "7463b463-8120-46ba-b7dd-b61a5808ea4c",
   "metadata": {},
   "outputs": [
    {
     "data": {
      "text/html": [
       "<div>\n",
       "<style scoped>\n",
       "    .dataframe tbody tr th:only-of-type {\n",
       "        vertical-align: middle;\n",
       "    }\n",
       "\n",
       "    .dataframe tbody tr th {\n",
       "        vertical-align: top;\n",
       "    }\n",
       "\n",
       "    .dataframe thead th {\n",
       "        text-align: right;\n",
       "    }\n",
       "</style>\n",
       "<table border=\"1\" class=\"dataframe\">\n",
       "  <thead>\n",
       "    <tr style=\"text-align: right;\">\n",
       "      <th></th>\n",
       "      <th>file</th>\n",
       "      <th>path</th>\n",
       "      <th>abnormal</th>\n",
       "      <th>tuberculosis</th>\n",
       "    </tr>\n",
       "  </thead>\n",
       "  <tbody>\n",
       "    <tr>\n",
       "      <th>1485</th>\n",
       "      <td>00001334_003.png</td>\n",
       "      <td>dataset/anormal-xr-no_tb/00001334_003.png</td>\n",
       "      <td>1</td>\n",
       "      <td>0</td>\n",
       "    </tr>\n",
       "    <tr>\n",
       "      <th>9514</th>\n",
       "      <td>person313_bacteria_1459.jpeg</td>\n",
       "      <td>dataset/chest-xr-pnm-cvd19-tb/train/PNEUMONIA/...</td>\n",
       "      <td>1</td>\n",
       "      <td>0</td>\n",
       "    </tr>\n",
       "    <tr>\n",
       "      <th>5528</th>\n",
       "      <td>person1669_virus_2885.jpeg</td>\n",
       "      <td>dataset/chest-xr-pnm-cvd19-tb/test/PNEUMONIA/p...</td>\n",
       "      <td>1</td>\n",
       "      <td>0</td>\n",
       "    </tr>\n",
       "    <tr>\n",
       "      <th>8077</th>\n",
       "      <td>person1702_bacteria_4508.jpeg</td>\n",
       "      <td>dataset/chest-xr-pnm-cvd19-tb/train/PNEUMONIA/...</td>\n",
       "      <td>1</td>\n",
       "      <td>0</td>\n",
       "    </tr>\n",
       "    <tr>\n",
       "      <th>9642</th>\n",
       "      <td>person1567_virus_2722.jpeg</td>\n",
       "      <td>dataset/chest-xr-pnm-cvd19-tb/train/PNEUMONIA/...</td>\n",
       "      <td>1</td>\n",
       "      <td>0</td>\n",
       "    </tr>\n",
       "    <tr>\n",
       "      <th>...</th>\n",
       "      <td>...</td>\n",
       "      <td>...</td>\n",
       "      <td>...</td>\n",
       "      <td>...</td>\n",
       "    </tr>\n",
       "    <tr>\n",
       "      <th>10022</th>\n",
       "      <td>person652_bacteria_2544.jpeg</td>\n",
       "      <td>dataset/chest-xr-pnm-cvd19-tb/train/PNEUMONIA/...</td>\n",
       "      <td>1</td>\n",
       "      <td>0</td>\n",
       "    </tr>\n",
       "    <tr>\n",
       "      <th>13506</th>\n",
       "      <td>Normal-76.png</td>\n",
       "      <td>dataset/TB_Chest_Radiography_Database/Normal/N...</td>\n",
       "      <td>0</td>\n",
       "      <td>0</td>\n",
       "    </tr>\n",
       "    <tr>\n",
       "      <th>3706</th>\n",
       "      <td>00000211_031.png</td>\n",
       "      <td>dataset/anormal-xr-no_tb/00000211_031.png</td>\n",
       "      <td>1</td>\n",
       "      <td>0</td>\n",
       "    </tr>\n",
       "    <tr>\n",
       "      <th>3520</th>\n",
       "      <td>00000370_011.png</td>\n",
       "      <td>dataset/anormal-xr-no_tb/00000370_011.png</td>\n",
       "      <td>1</td>\n",
       "      <td>0</td>\n",
       "    </tr>\n",
       "    <tr>\n",
       "      <th>3621</th>\n",
       "      <td>00000957_002.png</td>\n",
       "      <td>dataset/anormal-xr-no_tb/00000957_002.png</td>\n",
       "      <td>1</td>\n",
       "      <td>0</td>\n",
       "    </tr>\n",
       "  </tbody>\n",
       "</table>\n",
       "<p>14182 rows × 4 columns</p>\n",
       "</div>"
      ],
      "text/plain": [
       "                                file  \\\n",
       "1485                00001334_003.png   \n",
       "9514    person313_bacteria_1459.jpeg   \n",
       "5528      person1669_virus_2885.jpeg   \n",
       "8077   person1702_bacteria_4508.jpeg   \n",
       "9642      person1567_virus_2722.jpeg   \n",
       "...                              ...   \n",
       "10022   person652_bacteria_2544.jpeg   \n",
       "13506                  Normal-76.png   \n",
       "3706                00000211_031.png   \n",
       "3520                00000370_011.png   \n",
       "3621                00000957_002.png   \n",
       "\n",
       "                                                    path  abnormal  \\\n",
       "1485           dataset/anormal-xr-no_tb/00001334_003.png         1   \n",
       "9514   dataset/chest-xr-pnm-cvd19-tb/train/PNEUMONIA/...         1   \n",
       "5528   dataset/chest-xr-pnm-cvd19-tb/test/PNEUMONIA/p...         1   \n",
       "8077   dataset/chest-xr-pnm-cvd19-tb/train/PNEUMONIA/...         1   \n",
       "9642   dataset/chest-xr-pnm-cvd19-tb/train/PNEUMONIA/...         1   \n",
       "...                                                  ...       ...   \n",
       "10022  dataset/chest-xr-pnm-cvd19-tb/train/PNEUMONIA/...         1   \n",
       "13506  dataset/TB_Chest_Radiography_Database/Normal/N...         0   \n",
       "3706           dataset/anormal-xr-no_tb/00000211_031.png         1   \n",
       "3520           dataset/anormal-xr-no_tb/00000370_011.png         1   \n",
       "3621           dataset/anormal-xr-no_tb/00000957_002.png         1   \n",
       "\n",
       "       tuberculosis  \n",
       "1485              0  \n",
       "9514              0  \n",
       "5528              0  \n",
       "8077              0  \n",
       "9642              0  \n",
       "...             ...  \n",
       "10022             0  \n",
       "13506             0  \n",
       "3706              0  \n",
       "3520              0  \n",
       "3621              0  \n",
       "\n",
       "[14182 rows x 4 columns]"
      ]
     },
     "execution_count": 7,
     "metadata": {},
     "output_type": "execute_result"
    }
   ],
   "source": [
    "train_df"
   ]
  },
  {
   "cell_type": "code",
   "execution_count": 8,
   "id": "eb99c102-d1ae-4ec9-8610-071b819813b7",
   "metadata": {},
   "outputs": [
    {
     "data": {
      "text/html": [
       "<div>\n",
       "<style scoped>\n",
       "    .dataframe tbody tr th:only-of-type {\n",
       "        vertical-align: middle;\n",
       "    }\n",
       "\n",
       "    .dataframe tbody tr th {\n",
       "        vertical-align: top;\n",
       "    }\n",
       "\n",
       "    .dataframe thead th {\n",
       "        text-align: right;\n",
       "    }\n",
       "</style>\n",
       "<table border=\"1\" class=\"dataframe\">\n",
       "  <thead>\n",
       "    <tr style=\"text-align: right;\">\n",
       "      <th></th>\n",
       "      <th>file</th>\n",
       "      <th>path</th>\n",
       "      <th>abnormal</th>\n",
       "      <th>tuberculosis</th>\n",
       "    </tr>\n",
       "  </thead>\n",
       "  <tbody>\n",
       "    <tr>\n",
       "      <th>10377</th>\n",
       "      <td>person372_bacteria_1705.jpeg</td>\n",
       "      <td>dataset/chest-xr-pnm-cvd19-tb/train/PNEUMONIA/...</td>\n",
       "      <td>1</td>\n",
       "      <td>0</td>\n",
       "    </tr>\n",
       "    <tr>\n",
       "      <th>2080</th>\n",
       "      <td>00000508_000.png</td>\n",
       "      <td>dataset/anormal-xr-no_tb/00000508_000.png</td>\n",
       "      <td>1</td>\n",
       "      <td>0</td>\n",
       "    </tr>\n",
       "    <tr>\n",
       "      <th>6158</th>\n",
       "      <td>NORMAL2-IM-1365-0001.jpeg</td>\n",
       "      <td>dataset/chest-xr-pnm-cvd19-tb/train/NORMAL/NOR...</td>\n",
       "      <td>0</td>\n",
       "      <td>0</td>\n",
       "    </tr>\n",
       "    <tr>\n",
       "      <th>9797</th>\n",
       "      <td>person1352_bacteria_3445.jpeg</td>\n",
       "      <td>dataset/chest-xr-pnm-cvd19-tb/train/PNEUMONIA/...</td>\n",
       "      <td>1</td>\n",
       "      <td>0</td>\n",
       "    </tr>\n",
       "    <tr>\n",
       "      <th>9195</th>\n",
       "      <td>person826_bacteria_2737.jpeg</td>\n",
       "      <td>dataset/chest-xr-pnm-cvd19-tb/train/PNEUMONIA/...</td>\n",
       "      <td>1</td>\n",
       "      <td>0</td>\n",
       "    </tr>\n",
       "    <tr>\n",
       "      <th>...</th>\n",
       "      <td>...</td>\n",
       "      <td>...</td>\n",
       "      <td>...</td>\n",
       "      <td>...</td>\n",
       "    </tr>\n",
       "    <tr>\n",
       "      <th>62</th>\n",
       "      <td>00000013_028.png</td>\n",
       "      <td>dataset/anormal-xr-no_tb/00000013_028.png</td>\n",
       "      <td>1</td>\n",
       "      <td>0</td>\n",
       "    </tr>\n",
       "    <tr>\n",
       "      <th>8276</th>\n",
       "      <td>person1361_bacteria_3476.jpeg</td>\n",
       "      <td>dataset/chest-xr-pnm-cvd19-tb/train/PNEUMONIA/...</td>\n",
       "      <td>1</td>\n",
       "      <td>0</td>\n",
       "    </tr>\n",
       "    <tr>\n",
       "      <th>14798</th>\n",
       "      <td>Normal-1376.png</td>\n",
       "      <td>dataset/TB_Chest_Radiography_Database/Normal/N...</td>\n",
       "      <td>0</td>\n",
       "      <td>0</td>\n",
       "    </tr>\n",
       "    <tr>\n",
       "      <th>5831</th>\n",
       "      <td>NORMAL2-IM-1360-0001.jpeg</td>\n",
       "      <td>dataset/chest-xr-pnm-cvd19-tb/train/NORMAL/NOR...</td>\n",
       "      <td>0</td>\n",
       "      <td>0</td>\n",
       "    </tr>\n",
       "    <tr>\n",
       "      <th>11162</th>\n",
       "      <td>Tuberculosis-54.png</td>\n",
       "      <td>dataset/chest-xr-pnm-cvd19-tb/train/TURBERCULO...</td>\n",
       "      <td>1</td>\n",
       "      <td>1</td>\n",
       "    </tr>\n",
       "  </tbody>\n",
       "</table>\n",
       "<p>1576 rows × 4 columns</p>\n",
       "</div>"
      ],
      "text/plain": [
       "                                file  \\\n",
       "10377   person372_bacteria_1705.jpeg   \n",
       "2080                00000508_000.png   \n",
       "6158       NORMAL2-IM-1365-0001.jpeg   \n",
       "9797   person1352_bacteria_3445.jpeg   \n",
       "9195    person826_bacteria_2737.jpeg   \n",
       "...                              ...   \n",
       "62                  00000013_028.png   \n",
       "8276   person1361_bacteria_3476.jpeg   \n",
       "14798                Normal-1376.png   \n",
       "5831       NORMAL2-IM-1360-0001.jpeg   \n",
       "11162            Tuberculosis-54.png   \n",
       "\n",
       "                                                    path  abnormal  \\\n",
       "10377  dataset/chest-xr-pnm-cvd19-tb/train/PNEUMONIA/...         1   \n",
       "2080           dataset/anormal-xr-no_tb/00000508_000.png         1   \n",
       "6158   dataset/chest-xr-pnm-cvd19-tb/train/NORMAL/NOR...         0   \n",
       "9797   dataset/chest-xr-pnm-cvd19-tb/train/PNEUMONIA/...         1   \n",
       "9195   dataset/chest-xr-pnm-cvd19-tb/train/PNEUMONIA/...         1   \n",
       "...                                                  ...       ...   \n",
       "62             dataset/anormal-xr-no_tb/00000013_028.png         1   \n",
       "8276   dataset/chest-xr-pnm-cvd19-tb/train/PNEUMONIA/...         1   \n",
       "14798  dataset/TB_Chest_Radiography_Database/Normal/N...         0   \n",
       "5831   dataset/chest-xr-pnm-cvd19-tb/train/NORMAL/NOR...         0   \n",
       "11162  dataset/chest-xr-pnm-cvd19-tb/train/TURBERCULO...         1   \n",
       "\n",
       "       tuberculosis  \n",
       "10377             0  \n",
       "2080              0  \n",
       "6158              0  \n",
       "9797              0  \n",
       "9195              0  \n",
       "...             ...  \n",
       "62                0  \n",
       "8276              0  \n",
       "14798             0  \n",
       "5831              0  \n",
       "11162             1  \n",
       "\n",
       "[1576 rows x 4 columns]"
      ]
     },
     "execution_count": 8,
     "metadata": {},
     "output_type": "execute_result"
    }
   ],
   "source": [
    "test_df"
   ]
  },
  {
   "cell_type": "markdown",
   "id": "965fa6b0-e1fe-42a3-a3e5-0699d2dda7dc",
   "metadata": {},
   "source": [
    "## Create the Data Generators with Data Augmentation"
   ]
  },
  {
   "cell_type": "code",
   "execution_count": 9,
   "id": "fe2187ee-38e0-40d5-8bec-29643ddb477b",
   "metadata": {},
   "outputs": [],
   "source": [
    "#Creates the image data generator using the ResNet50 preprocess and make the pixel values be between 0 and 1\n",
    "train_generator = ImageDataGenerator(\n",
    "    preprocessing_function = preprocess_input_vgg16,\n",
    "    rescale = 1./255,\n",
    "    validation_split = VAL_SIZE)\n",
    "\n",
    "test_generator = ImageDataGenerator(\n",
    "    preprocessing_function=preprocess_input_vgg16,\n",
    "    rescale = 1./255)"
   ]
  },
  {
   "cell_type": "code",
   "execution_count": 10,
   "id": "9ee45065-28b1-4c8c-8b41-6ce677c9929a",
   "metadata": {},
   "outputs": [
    {
     "name": "stdout",
     "output_type": "stream",
     "text": [
      "Found 11346 validated image filenames.\n",
      "Found 2836 validated image filenames.\n",
      "Found 1576 validated image filenames.\n"
     ]
    }
   ],
   "source": [
    "#To optimize the RAM usage, we use the flow method from generator continuously provide images\n",
    "\n",
    "train_images = train_generator.flow_from_dataframe(\n",
    "    dataframe = train_df,\n",
    "    directory = '',\n",
    "    x_col = 'path',\n",
    "    y_col = ['abnormal','tuberculosis'],\n",
    "    target_size = IMG_SIZE,\n",
    "    color_mode = 'rgb',\n",
    "    class_mode = 'raw',\n",
    "    batch_size = BATCH_SIZE,\n",
    "    shuffle = True,\n",
    "    seed = SEED,\n",
    "    subset = 'training',\n",
    "    rotation_range = 30,\n",
    "    zoom_range = 0.10,\n",
    "    width_shift_range = 0.1,\n",
    "    height_shift_range = 0.1,\n",
    "    shear_range = 0.15,\n",
    "    # horizontal_flip = True,\n",
    "    # vertical_flip = True,\n",
    "    fill_mode = \"nearest\")\n",
    "\n",
    "val_images = train_generator.flow_from_dataframe(\n",
    "    dataframe = train_df,\n",
    "    directory = '',\n",
    "    x_col = 'path',\n",
    "    y_col = ['abnormal','tuberculosis'],\n",
    "    target_size = IMG_SIZE,\n",
    "    color_mode = 'rgb',\n",
    "    class_mode = 'raw',\n",
    "    batch_size = BATCH_SIZE,\n",
    "    shuffle = True,\n",
    "    seed = SEED,\n",
    "    subset = 'validation',\n",
    "    rotation_range = 30,\n",
    "    zoom_range = 0.10,\n",
    "    width_shift_range = 0.1,\n",
    "    height_shift_range = 0.1,\n",
    "    shear_range = 0.15,\n",
    "    # horizontal_flip = True,\n",
    "    # vertical_flip = True,\n",
    "    fill_mode = \"nearest\")\n",
    "\n",
    "test_images = test_generator.flow_from_dataframe(\n",
    "    dataframe=test_df,\n",
    "    directory = '',\n",
    "    x_col = 'path',\n",
    "    y_col = ['abnormal','tuberculosis'],\n",
    "    target_size = IMG_SIZE,\n",
    "    color_mode = 'rgb',\n",
    "    class_mode = 'raw',\n",
    "    batch_size = BATCH_SIZE,\n",
    "    shuffle=False)"
   ]
  },
  {
   "cell_type": "markdown",
   "id": "c72dd8a9-3fd7-4330-a567-ab334c8b98f3",
   "metadata": {},
   "source": [
    "## Train the model and define the metrics functions"
   ]
  },
  {
   "cell_type": "code",
   "execution_count": 11,
   "id": "14b35182-c7e9-4330-a84c-91586b5d612e",
   "metadata": {},
   "outputs": [],
   "source": [
    "from keras import backend as K\n",
    "\n",
    "def recall_m(y_true, y_pred):\n",
    "    true_positives = K.sum(K.round(K.clip(y_true * y_pred, 0, 1)))\n",
    "    possible_positives = K.sum(K.round(K.clip(y_true, 0, 1)))\n",
    "    recall = true_positives / (possible_positives + K.epsilon())\n",
    "    return recall\n",
    "\n",
    "def precision_m(y_true, y_pred):\n",
    "    true_positives = K.sum(K.round(K.clip(y_true * y_pred, 0, 1)))\n",
    "    predicted_positives = K.sum(K.round(K.clip(y_pred, 0, 1)))\n",
    "    precision = true_positives / (predicted_positives + K.epsilon())\n",
    "    return precision\n",
    "\n",
    "def f1_score(y_true, y_pred):\n",
    "    precision = precision_m(y_true, y_pred)\n",
    "    recall = recall_m(y_true, y_pred)\n",
    "    return 2*((precision*recall)/(precision+recall+K.epsilon()))"
   ]
  },
  {
   "cell_type": "code",
   "execution_count": 12,
   "id": "af740e0f-edf4-4846-9ed4-67025aaf6e6a",
   "metadata": {},
   "outputs": [
    {
     "name": "stderr",
     "output_type": "stream",
     "text": [
      "2022-06-02 14:59:33.050630: I tensorflow/core/platform/cpu_feature_guard.cc:142] This TensorFlow binary is optimized with oneAPI Deep Neural Network Library (oneDNN) to use the following CPU instructions in performance-critical operations:  SSE4.1 SSE4.2 AVX AVX2 FMA\n",
      "To enable them in other operations, rebuild TensorFlow with the appropriate compiler flags.\n",
      "2022-06-02 14:59:33.051189: I tensorflow/compiler/jit/xla_gpu_device.cc:99] Not creating XLA devices, tf_xla_enable_xla_devices not set\n",
      "2022-06-02 14:59:33.051385: I tensorflow/stream_executor/cuda/cuda_gpu_executor.cc:941] successful NUMA node read from SysFS had negative value (-1), but there must be at least one NUMA node, so returning NUMA node zero\n",
      "2022-06-02 14:59:33.051508: I tensorflow/core/common_runtime/gpu/gpu_device.cc:1720] Found device 0 with properties: \n",
      "pciBusID: 0000:01:00.0 name: NVIDIA GeForce GTX 1650 computeCapability: 7.5\n",
      "coreClock: 1.56GHz coreCount: 16 deviceMemorySize: 3.82GiB deviceMemoryBandwidth: 119.24GiB/s\n",
      "2022-06-02 14:59:33.051533: I tensorflow/stream_executor/platform/default/dso_loader.cc:49] Successfully opened dynamic library libcudart.so.10.1\n",
      "2022-06-02 14:59:33.051555: I tensorflow/stream_executor/platform/default/dso_loader.cc:49] Successfully opened dynamic library libcublas.so.10\n",
      "2022-06-02 14:59:33.051567: I tensorflow/stream_executor/platform/default/dso_loader.cc:49] Successfully opened dynamic library libcublasLt.so.10\n",
      "2022-06-02 14:59:33.051579: I tensorflow/stream_executor/platform/default/dso_loader.cc:49] Successfully opened dynamic library libcufft.so.10\n",
      "2022-06-02 14:59:33.051591: I tensorflow/stream_executor/platform/default/dso_loader.cc:49] Successfully opened dynamic library libcurand.so.10\n",
      "2022-06-02 14:59:33.051603: I tensorflow/stream_executor/platform/default/dso_loader.cc:49] Successfully opened dynamic library libcusolver.so.10\n",
      "2022-06-02 14:59:33.051615: I tensorflow/stream_executor/platform/default/dso_loader.cc:49] Successfully opened dynamic library libcusparse.so.10\n",
      "2022-06-02 14:59:33.051627: I tensorflow/stream_executor/platform/default/dso_loader.cc:49] Successfully opened dynamic library libcudnn.so.7\n",
      "2022-06-02 14:59:33.051681: I tensorflow/stream_executor/cuda/cuda_gpu_executor.cc:941] successful NUMA node read from SysFS had negative value (-1), but there must be at least one NUMA node, so returning NUMA node zero\n",
      "2022-06-02 14:59:33.051812: I tensorflow/stream_executor/cuda/cuda_gpu_executor.cc:941] successful NUMA node read from SysFS had negative value (-1), but there must be at least one NUMA node, so returning NUMA node zero\n",
      "2022-06-02 14:59:33.051903: I tensorflow/core/common_runtime/gpu/gpu_device.cc:1862] Adding visible gpu devices: 0\n",
      "2022-06-02 14:59:33.051928: I tensorflow/stream_executor/platform/default/dso_loader.cc:49] Successfully opened dynamic library libcudart.so.10.1\n",
      "2022-06-02 14:59:33.518898: I tensorflow/core/common_runtime/gpu/gpu_device.cc:1261] Device interconnect StreamExecutor with strength 1 edge matrix:\n",
      "2022-06-02 14:59:33.518920: I tensorflow/core/common_runtime/gpu/gpu_device.cc:1267]      0 \n",
      "2022-06-02 14:59:33.518929: I tensorflow/core/common_runtime/gpu/gpu_device.cc:1280] 0:   N \n",
      "2022-06-02 14:59:33.519128: I tensorflow/stream_executor/cuda/cuda_gpu_executor.cc:941] successful NUMA node read from SysFS had negative value (-1), but there must be at least one NUMA node, so returning NUMA node zero\n",
      "2022-06-02 14:59:33.519312: I tensorflow/stream_executor/cuda/cuda_gpu_executor.cc:941] successful NUMA node read from SysFS had negative value (-1), but there must be at least one NUMA node, so returning NUMA node zero\n",
      "2022-06-02 14:59:33.519440: I tensorflow/stream_executor/cuda/cuda_gpu_executor.cc:941] successful NUMA node read from SysFS had negative value (-1), but there must be at least one NUMA node, so returning NUMA node zero\n",
      "2022-06-02 14:59:33.519541: I tensorflow/core/common_runtime/gpu/gpu_device.cc:1406] Created TensorFlow device (/job:localhost/replica:0/task:0/device:GPU:0 with 3174 MB memory) -> physical GPU (device: 0, name: NVIDIA GeForce GTX 1650, pci bus id: 0000:01:00.0, compute capability: 7.5)\n"
     ]
    }
   ],
   "source": [
    "#Load the Resnet 50 with its tops layers\n",
    "# resnet50 = ResNet50(\n",
    "#     input_shape = INPUT_SHAPE,\n",
    "#     include_top = False,\n",
    "#     weights = 'imagenet',\n",
    "#     pooling = 'avg'\n",
    "# )\n",
    "\n",
    "vgg16 = VGG16(\n",
    "    input_shape = INPUT_SHAPE,\n",
    "    include_top = False,\n",
    "    weights = 'imagenet',\n",
    "    pooling = 'avg'\n",
    ")"
   ]
  },
  {
   "cell_type": "code",
   "execution_count": 13,
   "id": "098b8d5f-c984-498e-b4bf-b1ef7844370e",
   "metadata": {},
   "outputs": [],
   "source": [
    "#The ResNet model it is without the top layers so we customize to fits our needs\n",
    "inputs = vgg16.input\n",
    "\n",
    "layer = Dense(128, activation='relu')(vgg16.output)\n",
    "layer = Dense(128, activation='relu')(layer)\n",
    "\n",
    "outputs = Dense(2, activation='sigmoid')(layer)\n",
    "\n",
    "model = Model(inputs = inputs, outputs = outputs)\n",
    "\n",
    "model.compile(\n",
    "    optimizer='adam',\n",
    "    loss=['binary_crossentropy','binary_crossentropy'],\n",
    "    metrics=['accuracy',f1_score,precision_m, recall_m])\n"
   ]
  },
  {
   "cell_type": "code",
   "execution_count": 14,
   "id": "008942bf-4f70-4033-9a4a-7cff31ca901a",
   "metadata": {},
   "outputs": [],
   "source": [
    "#Defines the callbacks to use during training\n",
    "\n",
    "#Reduces learning rate on plateou\n",
    "reduceLROnplateou = ReduceLROnPlateau(\n",
    "    monitor='val_loss',\n",
    "    factor=0.5,\n",
    "    patience=5,\n",
    "    min_lr=0.001)\n",
    "\n",
    "#stops training when the validation loss doesn't improve\n",
    "earlyStopping = EarlyStopping(\n",
    "    monitor='val_loss',\n",
    "    patience=10,\n",
    "    restore_best_weights = True)\n",
    "\n",
    "#Saves the model checkpoint each time the validation loss improves\n",
    "checkPoint = ModelCheckpoint(\n",
    "    filepath = CHECKPOINT_PATH,\n",
    "    monitor='val_loss',\n",
    "    save_best_only=True)\n",
    "\n",
    "callbacks = [reduceLROnplateou, earlyStopping, checkPoint]"
   ]
  },
  {
   "cell_type": "code",
   "execution_count": 15,
   "id": "7651ad71-49aa-440f-87f2-110b0671916b",
   "metadata": {
    "tags": []
   },
   "outputs": [
    {
     "name": "stderr",
     "output_type": "stream",
     "text": [
      "2022-06-02 14:59:33.975520: I tensorflow/compiler/mlir/mlir_graph_optimization_pass.cc:116] None of the MLIR optimization passes are enabled (registered 2)\n",
      "2022-06-02 14:59:33.992307: I tensorflow/core/platform/profile_utils/cpu_utils.cc:112] CPU Frequency: 2599990000 Hz\n"
     ]
    },
    {
     "name": "stdout",
     "output_type": "stream",
     "text": [
      "Epoch 1/3\n"
     ]
    },
    {
     "name": "stderr",
     "output_type": "stream",
     "text": [
      "2022-06-02 14:59:34.828241: I tensorflow/stream_executor/platform/default/dso_loader.cc:49] Successfully opened dynamic library libcublas.so.10\n",
      "2022-06-02 14:59:35.100434: I tensorflow/stream_executor/platform/default/dso_loader.cc:49] Successfully opened dynamic library libcudnn.so.7\n",
      "2022-06-02 14:59:36.142473: W tensorflow/stream_executor/gpu/asm_compiler.cc:63] Running ptxas --version returned 256\n",
      "2022-06-02 14:59:36.195284: W tensorflow/stream_executor/gpu/redzone_allocator.cc:314] Internal: ptxas exited with non-zero error code 256, output: \n",
      "Relying on driver to perform ptx compilation. \n",
      "Modify $PATH to customize ptxas location.\n",
      "This message will be only logged once.\n",
      "2022-06-02 14:59:37.176450: W tensorflow/core/common_runtime/bfc_allocator.cc:314] Garbage collection: deallocate free memory regions (i.e., allocations) so that we can re-allocate a larger region to avoid OOM due to memory fragmentation. If you see this message frequently, you are running near the threshold of the available device memory and re-allocation may incur great performance overhead. You may try smaller batch sizes to observe the performance impact. Set TF_ENABLE_GPU_GARBAGE_COLLECTION=false if you'd like to disable this feature.\n",
      "2022-06-02 14:59:37.230446: I tensorflow/stream_executor/cuda/cuda_driver.cc:789] failed to allocate 2.60G (2793013248 bytes) from device: CUDA_ERROR_OUT_OF_MEMORY: out of memory\n",
      "2022-06-02 14:59:50.113568: W tensorflow/core/common_runtime/bfc_allocator.cc:248] Allocator (GPU_0_bfc) ran out of memory trying to allocate 2.22GiB with freed_by_count=0. The caller indicates that this is not a failure, but may mean that there could be performance gains if more memory were available.\n"
     ]
    },
    {
     "name": "stdout",
     "output_type": "stream",
     "text": [
      "1891/1891 [==============================] - 445s 226ms/step - loss: 0.5968 - accuracy: 0.9929 - f1_score: 0.7293 - precision_m: 0.6606 - recall_m: 0.8686 - val_loss: 0.4715 - val_accuracy: 1.0000 - val_f1_score: 0.7441 - val_precision_m: 0.6623 - val_recall_m: 0.8987\n",
      "Epoch 2/3\n",
      "1891/1891 [==============================] - 422s 223ms/step - loss: 0.4626 - accuracy: 1.0000 - f1_score: 0.7559 - precision_m: 0.6788 - recall_m: 0.9052 - val_loss: 0.4764 - val_accuracy: 1.0000 - val_f1_score: 0.7419 - val_precision_m: 0.6621 - val_recall_m: 0.9026\n",
      "Epoch 3/3\n",
      "1891/1891 [==============================] - 420s 222ms/step - loss: 0.4685 - accuracy: 1.0000 - f1_score: 0.7556 - precision_m: 0.6795 - recall_m: 0.8984 - val_loss: 0.4699 - val_accuracy: 1.0000 - val_f1_score: 0.7433 - val_precision_m: 0.6624 - val_recall_m: 0.8991\n"
     ]
    }
   ],
   "source": [
    "#Trains the model and saves the training history\n",
    "history = model.fit(\n",
    "    train_images,\n",
    "    validation_data = val_images,\n",
    "    epochs = EPOCHS,\n",
    "    steps_per_epoch = len(train_images),\n",
    "    validation_steps = len(val_images),\n",
    "    callbacks = callbacks,\n",
    "    workers = 6\n",
    ")"
   ]
  },
  {
   "cell_type": "markdown",
   "id": "105e9b2b-6d17-4a4b-ad0f-7ecb98efff5a",
   "metadata": {},
   "source": [
    "## Plot the Loss and Accuracy"
   ]
  },
  {
   "cell_type": "code",
   "execution_count": 16,
   "id": "146ed4d1-aafb-4692-b64a-2b9b19f0bbee",
   "metadata": {},
   "outputs": [
    {
     "data": {
      "text/plain": [
       "dict_keys(['loss', 'accuracy', 'f1_score', 'precision_m', 'recall_m', 'val_loss', 'val_accuracy', 'val_f1_score', 'val_precision_m', 'val_recall_m', 'lr'])"
      ]
     },
     "execution_count": 16,
     "metadata": {},
     "output_type": "execute_result"
    }
   ],
   "source": [
    "history.history.keys()"
   ]
  },
  {
   "cell_type": "code",
   "execution_count": 17,
   "id": "2864f148-46ff-4f8f-96e5-2790cea47566",
   "metadata": {},
   "outputs": [
    {
     "data": {
      "image/png": "[encoded data removed]",
      "text/plain": [
       "<Figure size 432x288 with 1 Axes>"
      ]
     },
     "metadata": {
      "needs_background": "light"
     },
     "output_type": "display_data"
    }
   ],
   "source": [
    "plt.figure()\n",
    "plt.plot(history.history[\"loss\"],label = \"Train Loss\", color = \"black\")\n",
    "plt.plot(history.history[\"val_loss\"],label = \"Validation Loss\", color = \"darkred\", linestyle=\"dashed\",markeredgecolor = \"purple\", markeredgewidth = 2)\n",
    "plt.title(\"Model Loss\", color = \"darkred\", size = 13)\n",
    "plt.legend()\n",
    "plt.show()"
   ]
  },
  {
   "cell_type": "code",
   "execution_count": 18,
   "id": "0bf8cb5b-57ba-4150-8691-7a51f67a2a04",
   "metadata": {},
   "outputs": [
    {
     "data": {
      "image/png": "[encoded data removed]",
      "text/plain": [
       "<Figure size 432x288 with 1 Axes>"
      ]
     },
     "metadata": {
      "needs_background": "light"
     },
     "output_type": "display_data"
    }
   ],
   "source": [
    "plt.figure()\n",
    "plt.plot(history.history[\"accuracy\"],label = \"Train Accuracy\", color = \"black\")\n",
    "plt.plot(history.history[\"val_accuracy\"],label = \"Validation Accuracy\", color = \"darkred\", linestyle=\"dashed\",markeredgecolor = \"purple\", markeredgewidth = 2)\n",
    "plt.title(\"Model Accuracy\", color = \"darkred\", size = 13)\n",
    "plt.legend()\n",
    "plt.show()"
   ]
  },
  {
   "cell_type": "markdown",
   "id": "b4503f52-a96a-49fe-b2de-d372808c7854",
   "metadata": {},
   "source": [
    "## Load the best model to perform inference"
   ]
  },
  {
   "cell_type": "code",
   "execution_count": 19,
   "id": "a19a68ea-d587-49d2-b6f4-60f3d9366ff5",
   "metadata": {},
   "outputs": [],
   "source": [
    "from tensorflow.keras.models import load_model\n",
    "from sklearn.metrics import accuracy_score,classification_report"
   ]
  },
  {
   "cell_type": "code",
   "execution_count": 21,
   "id": "e67ff0da-c255-41c0-936c-bfbfdc7fb4df",
   "metadata": {},
   "outputs": [],
   "source": [
    "dependencies = {\n",
    "    'f1_score': f1_score,\n",
    "    'precision_m': precision_m,\n",
    "    'recall_m': recall_m\n",
    "}\n",
    "model_pred = load_model('model/epoch-3_valloss-0.47.hdf5', custom_objects=dependencies)"
   ]
  },
  {
   "cell_type": "code",
   "execution_count": 22,
   "id": "ab9cb372-e250-423d-9c09-186ce5d206bf",
   "metadata": {},
   "outputs": [],
   "source": [
    "pred = model_pred.predict(\n",
    "    test_images,\n",
    "    steps = len(test_images),\n",
    "    workers = 6)"
   ]
  },
  {
   "cell_type": "code",
   "execution_count": 23,
   "id": "41cf328f-0ce4-4da2-9b1b-f8874d04afa2",
   "metadata": {},
   "outputs": [
    {
     "data": {
      "text/plain": [
       "array([[0.64288235, 0.09559943],\n",
       "       [0.6428796 , 0.0956035 ],\n",
       "       [0.64287853, 0.09560506],\n",
       "       [0.64287907, 0.09560446],\n",
       "       [0.64288336, 0.09559796],\n",
       "       [0.64288205, 0.0955995 ],\n",
       "       [0.6428813 , 0.09560101],\n",
       "       [0.64288276, 0.09559879],\n",
       "       [0.64288455, 0.09559602],\n",
       "       [0.6428811 , 0.09560125],\n",
       "       [0.6428797 , 0.09560335],\n",
       "       [0.6428828 , 0.09559872],\n",
       "       [0.6428828 , 0.095598  ],\n",
       "       [0.64288265, 0.09559911],\n",
       "       [0.6428819 , 0.0955999 ],\n",
       "       [0.6428808 , 0.09560196],\n",
       "       [0.6428799 , 0.09560299],\n",
       "       [0.64288086, 0.0956014 ],\n",
       "       [0.642881  , 0.09560117],\n",
       "       [0.64288235, 0.09559907],\n",
       "       [0.6428817 , 0.09560052],\n",
       "       [0.6428783 , 0.09560546],\n",
       "       [0.6428814 , 0.0956005 ],\n",
       "       [0.6428794 , 0.09560384],\n",
       "       [0.6428813 , 0.09560074],\n",
       "       [0.6428824 , 0.09559967],\n",
       "       [0.64288145, 0.09560042],\n",
       "       [0.6428781 , 0.0956058 ],\n",
       "       [0.642882  , 0.09559947],\n",
       "       [0.6428787 , 0.09560484],\n",
       "       [0.64288205, 0.09559935],\n",
       "       [0.64288294, 0.09559879],\n",
       "       [0.64288276, 0.09559907],\n",
       "       [0.64288276, 0.09559896],\n",
       "       [0.6428808 , 0.09560175],\n",
       "       [0.6428781 , 0.09560565],\n",
       "       [0.6428805 , 0.09560215],\n",
       "       [0.64288056, 0.0956016 ],\n",
       "       [0.642881  , 0.09560124],\n",
       "       [0.64288276, 0.0955984 ],\n",
       "       [0.6428837 , 0.09559751],\n",
       "       [0.6428816 , 0.09560014],\n",
       "       [0.6428821 , 0.09559932],\n",
       "       [0.6428783 , 0.09560549],\n",
       "       [0.6428814 , 0.09560093],\n",
       "       [0.6428827 , 0.09559827],\n",
       "       [0.6428782 , 0.09560565],\n",
       "       [0.64288175, 0.09560072],\n",
       "       [0.6428823 , 0.09559965],\n",
       "       [0.642882  , 0.0955997 ]], dtype=float32)"
      ]
     },
     "execution_count": 23,
     "metadata": {},
     "output_type": "execute_result"
    }
   ],
   "source": [
    "pred[:50]"
   ]
  },
  {
   "cell_type": "code",
   "execution_count": null,
   "id": "0524c539-939e-4913-97ce-8620df7d75cb",
   "metadata": {},
   "outputs": [],
   "source": [
    "# y_test = list(test_df[['abnormal','tuberculosis']])\n",
    "# acc = accuracy_score(y_test,pred)\n",
    "# print(f'Accuracy on the test set: {acc * 100:.2f}%')"
   ]
  },
  {
   "cell_type": "code",
   "execution_count": null,
   "id": "8d46e44a-c01b-453f-8b42-a3f0cbf2f942",
   "metadata": {},
   "outputs": [],
   "source": []
  }
 ],
 "metadata": {
  "kernelspec": {
   "display_name": "tf_tuberculosis",
   "language": "python",
   "name": "tf_tuberculosis"
  },
  "language_info": {
   "codemirror_mode": {
    "name": "ipython",
    "version": 3
   },
   "file_extension": ".py",
   "mimetype": "text/x-python",
   "name": "python",
   "nbconvert_exporter": "python",
   "pygments_lexer": "ipython3",
   "version": "3.9.12"
  }
 },
 "nbformat": 4,
 "nbformat_minor": 5
}
