{
 "cells": [
  {
   "cell_type": "markdown",
   "id": "cac00aa2-9bb2-4706-b4c6-ad2702a84297",
   "metadata": {
    "tags": []
   },
   "source": [
    "# Tuberculosis Detection - Tensorflow"
   ]
  },
  {
   "cell_type": "markdown",
   "id": "52540c8c-226f-4f3c-9eba-a8de679787e6",
   "metadata": {},
   "source": [
    "## Import and Define Constants"
   ]
  },
  {
   "cell_type": "code",
   "execution_count": 1,
   "id": "6f3dbce4-58df-44c7-9e3a-4d1fcaf28703",
   "metadata": {
    "tags": []
   },
   "outputs": [
    {
     "name": "stderr",
     "output_type": "stream",
     "text": [
      "2022-06-02 13:49:46.594177: I tensorflow/stream_executor/platform/default/dso_loader.cc:49] Successfully opened dynamic library libcudart.so.10.1\n",
      "2022-06-02 13:49:48.450081: I tensorflow/compiler/jit/xla_cpu_device.cc:41] Not creating XLA devices, tf_xla_enable_xla_devices not set\n",
      "2022-06-02 13:49:48.452014: I tensorflow/stream_executor/platform/default/dso_loader.cc:49] Successfully opened dynamic library libcuda.so.1\n",
      "2022-06-02 13:49:48.536116: I tensorflow/stream_executor/cuda/cuda_gpu_executor.cc:941] successful NUMA node read from SysFS had negative value (-1), but there must be at least one NUMA node, so returning NUMA node zero\n",
      "2022-06-02 13:49:48.536326: I tensorflow/core/common_runtime/gpu/gpu_device.cc:1720] Found device 0 with properties: \n",
      "pciBusID: 0000:01:00.0 name: NVIDIA GeForce GTX 1650 computeCapability: 7.5\n",
      "coreClock: 1.56GHz coreCount: 16 deviceMemorySize: 3.82GiB deviceMemoryBandwidth: 119.24GiB/s\n",
      "2022-06-02 13:49:48.536356: I tensorflow/stream_executor/platform/default/dso_loader.cc:49] Successfully opened dynamic library libcudart.so.10.1\n",
      "2022-06-02 13:49:48.540230: I tensorflow/stream_executor/platform/default/dso_loader.cc:49] Successfully opened dynamic library libcublas.so.10\n",
      "2022-06-02 13:49:48.540302: I tensorflow/stream_executor/platform/default/dso_loader.cc:49] Successfully opened dynamic library libcublasLt.so.10\n",
      "2022-06-02 13:49:48.541779: I tensorflow/stream_executor/platform/default/dso_loader.cc:49] Successfully opened dynamic library libcufft.so.10\n",
      "2022-06-02 13:49:48.542891: I tensorflow/stream_executor/platform/default/dso_loader.cc:49] Successfully opened dynamic library libcurand.so.10\n",
      "2022-06-02 13:49:48.546175: I tensorflow/stream_executor/platform/default/dso_loader.cc:49] Successfully opened dynamic library libcusolver.so.10\n",
      "2022-06-02 13:49:48.547212: I tensorflow/stream_executor/platform/default/dso_loader.cc:49] Successfully opened dynamic library libcusparse.so.10\n",
      "2022-06-02 13:49:48.551716: I tensorflow/stream_executor/platform/default/dso_loader.cc:49] Successfully opened dynamic library libcudnn.so.7\n",
      "2022-06-02 13:49:48.551926: I tensorflow/stream_executor/cuda/cuda_gpu_executor.cc:941] successful NUMA node read from SysFS had negative value (-1), but there must be at least one NUMA node, so returning NUMA node zero\n",
      "2022-06-02 13:49:48.552293: I tensorflow/stream_executor/cuda/cuda_gpu_executor.cc:941] successful NUMA node read from SysFS had negative value (-1), but there must be at least one NUMA node, so returning NUMA node zero\n",
      "2022-06-02 13:49:48.552401: I tensorflow/core/common_runtime/gpu/gpu_device.cc:1862] Adding visible gpu devices: 0\n"
     ]
    }
   ],
   "source": [
    "# Import all needed libraries\n",
    "import numpy as np\n",
    "import pandas as pd\n",
    "import tensorflow as tf\n",
    "import matplotlib.pyplot as plt\n",
    "from tensorflow.keras.preprocessing.image import ImageDataGenerator\n",
    "from tensorflow.keras.applications import ResNet50, VGG16\n",
    "from tensorflow.keras.applications.resnet50 import preprocess_input as preprocess_input_resnet50\n",
    "from tensorflow.keras.applications.vgg16 import preprocess_input as preprocess_input_vgg16 \n",
    "from tensorflow.keras.layers import Dense\n",
    "from tensorflow.keras import Model\n",
    "from tensorflow.keras.callbacks import EarlyStopping, ModelCheckpoint, ReduceLROnPlateau\n",
    "from PIL import Image\n",
    "from sklearn.model_selection import train_test_split\n",
    "\n",
    "from utils import load_dataframe\n",
    "\n",
    "#Configure memory usage to the GPU device\n",
    "physical_devices = tf.config.list_physical_devices('GPU') \n",
    "tf.config.experimental.set_memory_growth(physical_devices[0], True)"
   ]
  },
  {
   "cell_type": "code",
   "execution_count": 2,
   "id": "5da12a74-d186-4522-8e19-3037b5c864f2",
   "metadata": {},
   "outputs": [],
   "source": [
    "INPUT_SHAPE = (224,224,3)\n",
    "IMG_SIZE = (224,224)\n",
    "BATCH_SIZE = 6\n",
    "VAL_SIZE = 0.2\n",
    "SEED = 42\n",
    "CHECKPOINT_PATH = 'model/epoch-{epoch}_valloss-{val_loss:.2f}.hdf5'\n",
    "# EPOCHS = 30\n",
    "EPOCHS = 3 # To test whether the model has learned"
   ]
  },
  {
   "cell_type": "code",
   "execution_count": 3,
   "id": "ac927d8f-2f1b-410d-8d18-6288eeddf0cd",
   "metadata": {},
   "outputs": [],
   "source": [
    "dataset_description_path = \"dataset_description.yaml\""
   ]
  },
  {
   "cell_type": "markdown",
   "id": "2a00a061-0a8b-426b-8c57-ab9ed269f1cd",
   "metadata": {
    "tags": []
   },
   "source": [
    "## Generate the dataframe and split in train/val and test"
   ]
  },
  {
   "cell_type": "code",
   "execution_count": 4,
   "id": "60ef9878-3ae8-4083-ab3b-bad0e5f753ae",
   "metadata": {},
   "outputs": [],
   "source": [
    "#Generate dataset from description\n",
    "tb_df = load_dataframe(dataset_description_path)"
   ]
  },
  {
   "cell_type": "code",
   "execution_count": 5,
   "id": "10cb49dd-4d23-4749-8683-e32680736402",
   "metadata": {},
   "outputs": [
    {
     "data": {
      "text/html": [
       "<div>\n",
       "<style scoped>\n",
       "    .dataframe tbody tr th:only-of-type {\n",
       "        vertical-align: middle;\n",
       "    }\n",
       "\n",
       "    .dataframe tbody tr th {\n",
       "        vertical-align: top;\n",
       "    }\n",
       "\n",
       "    .dataframe thead th {\n",
       "        text-align: right;\n",
       "    }\n",
       "</style>\n",
       "<table border=\"1\" class=\"dataframe\">\n",
       "  <thead>\n",
       "    <tr style=\"text-align: right;\">\n",
       "      <th></th>\n",
       "      <th>file</th>\n",
       "      <th>path</th>\n",
       "      <th>abnormal</th>\n",
       "      <th>tuberculosis</th>\n",
       "    </tr>\n",
       "  </thead>\n",
       "  <tbody>\n",
       "    <tr>\n",
       "      <th>0</th>\n",
       "      <td>00000562_000.png</td>\n",
       "      <td>dataset/anormal-xr-no_tb/00000562_000.png</td>\n",
       "      <td>1</td>\n",
       "      <td>0</td>\n",
       "    </tr>\n",
       "    <tr>\n",
       "      <th>1</th>\n",
       "      <td>00000199_002.png</td>\n",
       "      <td>dataset/anormal-xr-no_tb/00000199_002.png</td>\n",
       "      <td>1</td>\n",
       "      <td>0</td>\n",
       "    </tr>\n",
       "    <tr>\n",
       "      <th>2</th>\n",
       "      <td>00000628_000.png</td>\n",
       "      <td>dataset/anormal-xr-no_tb/00000628_000.png</td>\n",
       "      <td>1</td>\n",
       "      <td>0</td>\n",
       "    </tr>\n",
       "    <tr>\n",
       "      <th>3</th>\n",
       "      <td>00000897_000.png</td>\n",
       "      <td>dataset/anormal-xr-no_tb/00000897_000.png</td>\n",
       "      <td>1</td>\n",
       "      <td>0</td>\n",
       "    </tr>\n",
       "    <tr>\n",
       "      <th>4</th>\n",
       "      <td>00000830_006.png</td>\n",
       "      <td>dataset/anormal-xr-no_tb/00000830_006.png</td>\n",
       "      <td>1</td>\n",
       "      <td>0</td>\n",
       "    </tr>\n",
       "    <tr>\n",
       "      <th>...</th>\n",
       "      <td>...</td>\n",
       "      <td>...</td>\n",
       "      <td>...</td>\n",
       "      <td>...</td>\n",
       "    </tr>\n",
       "    <tr>\n",
       "      <th>15753</th>\n",
       "      <td>Tuberculosis-49.png</td>\n",
       "      <td>dataset/TB_Chest_Radiography_Database/Tubercul...</td>\n",
       "      <td>1</td>\n",
       "      <td>1</td>\n",
       "    </tr>\n",
       "    <tr>\n",
       "      <th>15754</th>\n",
       "      <td>Tuberculosis-127.png</td>\n",
       "      <td>dataset/TB_Chest_Radiography_Database/Tubercul...</td>\n",
       "      <td>1</td>\n",
       "      <td>1</td>\n",
       "    </tr>\n",
       "    <tr>\n",
       "      <th>15755</th>\n",
       "      <td>Tuberculosis-166.png</td>\n",
       "      <td>dataset/TB_Chest_Radiography_Database/Tubercul...</td>\n",
       "      <td>1</td>\n",
       "      <td>1</td>\n",
       "    </tr>\n",
       "    <tr>\n",
       "      <th>15756</th>\n",
       "      <td>Tuberculosis-237.png</td>\n",
       "      <td>dataset/TB_Chest_Radiography_Database/Tubercul...</td>\n",
       "      <td>1</td>\n",
       "      <td>1</td>\n",
       "    </tr>\n",
       "    <tr>\n",
       "      <th>15757</th>\n",
       "      <td>Tuberculosis-112.png</td>\n",
       "      <td>dataset/TB_Chest_Radiography_Database/Tubercul...</td>\n",
       "      <td>1</td>\n",
       "      <td>1</td>\n",
       "    </tr>\n",
       "  </tbody>\n",
       "</table>\n",
       "<p>15758 rows × 4 columns</p>\n",
       "</div>"
      ],
      "text/plain": [
       "                       file  \\\n",
       "0          00000562_000.png   \n",
       "1          00000199_002.png   \n",
       "2          00000628_000.png   \n",
       "3          00000897_000.png   \n",
       "4          00000830_006.png   \n",
       "...                     ...   \n",
       "15753   Tuberculosis-49.png   \n",
       "15754  Tuberculosis-127.png   \n",
       "15755  Tuberculosis-166.png   \n",
       "15756  Tuberculosis-237.png   \n",
       "15757  Tuberculosis-112.png   \n",
       "\n",
       "                                                    path  abnormal  \\\n",
       "0              dataset/anormal-xr-no_tb/00000562_000.png         1   \n",
       "1              dataset/anormal-xr-no_tb/00000199_002.png         1   \n",
       "2              dataset/anormal-xr-no_tb/00000628_000.png         1   \n",
       "3              dataset/anormal-xr-no_tb/00000897_000.png         1   \n",
       "4              dataset/anormal-xr-no_tb/00000830_006.png         1   \n",
       "...                                                  ...       ...   \n",
       "15753  dataset/TB_Chest_Radiography_Database/Tubercul...         1   \n",
       "15754  dataset/TB_Chest_Radiography_Database/Tubercul...         1   \n",
       "15755  dataset/TB_Chest_Radiography_Database/Tubercul...         1   \n",
       "15756  dataset/TB_Chest_Radiography_Database/Tubercul...         1   \n",
       "15757  dataset/TB_Chest_Radiography_Database/Tubercul...         1   \n",
       "\n",
       "       tuberculosis  \n",
       "0                 0  \n",
       "1                 0  \n",
       "2                 0  \n",
       "3                 0  \n",
       "4                 0  \n",
       "...             ...  \n",
       "15753             1  \n",
       "15754             1  \n",
       "15755             1  \n",
       "15756             1  \n",
       "15757             1  \n",
       "\n",
       "[15758 rows x 4 columns]"
      ]
     },
     "execution_count": 5,
     "metadata": {},
     "output_type": "execute_result"
    }
   ],
   "source": [
    "tb_df"
   ]
  },
  {
   "cell_type": "code",
   "execution_count": 6,
   "id": "b361942b-e135-407d-a019-be0dcec8ef08",
   "metadata": {},
   "outputs": [],
   "source": [
    "train_df, test_df = train_test_split(tb_df, test_size=0.1)"
   ]
  },
  {
   "cell_type": "code",
   "execution_count": 7,
   "id": "7463b463-8120-46ba-b7dd-b61a5808ea4c",
   "metadata": {},
   "outputs": [
    {
     "data": {
      "text/html": [
       "<div>\n",
       "<style scoped>\n",
       "    .dataframe tbody tr th:only-of-type {\n",
       "        vertical-align: middle;\n",
       "    }\n",
       "\n",
       "    .dataframe tbody tr th {\n",
       "        vertical-align: top;\n",
       "    }\n",
       "\n",
       "    .dataframe thead th {\n",
       "        text-align: right;\n",
       "    }\n",
       "</style>\n",
       "<table border=\"1\" class=\"dataframe\">\n",
       "  <thead>\n",
       "    <tr style=\"text-align: right;\">\n",
       "      <th></th>\n",
       "      <th>file</th>\n",
       "      <th>path</th>\n",
       "      <th>abnormal</th>\n",
       "      <th>tuberculosis</th>\n",
       "    </tr>\n",
       "  </thead>\n",
       "  <tbody>\n",
       "    <tr>\n",
       "      <th>5848</th>\n",
       "      <td>NORMAL2-IM-0816-0001.jpeg</td>\n",
       "      <td>dataset/chest-xr-pnm-cvd19-tb/train/NORMAL/NOR...</td>\n",
       "      <td>0</td>\n",
       "      <td>0</td>\n",
       "    </tr>\n",
       "    <tr>\n",
       "      <th>3655</th>\n",
       "      <td>00001088_019.png</td>\n",
       "      <td>dataset/anormal-xr-no_tb/00001088_019.png</td>\n",
       "      <td>1</td>\n",
       "      <td>0</td>\n",
       "    </tr>\n",
       "    <tr>\n",
       "      <th>2312</th>\n",
       "      <td>00000478_002.png</td>\n",
       "      <td>dataset/anormal-xr-no_tb/00000478_002.png</td>\n",
       "      <td>1</td>\n",
       "      <td>0</td>\n",
       "    </tr>\n",
       "    <tr>\n",
       "      <th>8529</th>\n",
       "      <td>person966_virus_1639.jpeg</td>\n",
       "      <td>dataset/chest-xr-pnm-cvd19-tb/train/PNEUMONIA/...</td>\n",
       "      <td>1</td>\n",
       "      <td>0</td>\n",
       "    </tr>\n",
       "    <tr>\n",
       "      <th>9840</th>\n",
       "      <td>person38_bacteria_196.jpeg</td>\n",
       "      <td>dataset/chest-xr-pnm-cvd19-tb/train/PNEUMONIA/...</td>\n",
       "      <td>1</td>\n",
       "      <td>0</td>\n",
       "    </tr>\n",
       "    <tr>\n",
       "      <th>...</th>\n",
       "      <td>...</td>\n",
       "      <td>...</td>\n",
       "      <td>...</td>\n",
       "      <td>...</td>\n",
       "    </tr>\n",
       "    <tr>\n",
       "      <th>7404</th>\n",
       "      <td>person1679_bacteria_4453.jpeg</td>\n",
       "      <td>dataset/chest-xr-pnm-cvd19-tb/train/PNEUMONIA/...</td>\n",
       "      <td>1</td>\n",
       "      <td>0</td>\n",
       "    </tr>\n",
       "    <tr>\n",
       "      <th>10789</th>\n",
       "      <td>person1494_bacteria_3901.jpeg</td>\n",
       "      <td>dataset/chest-xr-pnm-cvd19-tb/train/PNEUMONIA/...</td>\n",
       "      <td>1</td>\n",
       "      <td>0</td>\n",
       "    </tr>\n",
       "    <tr>\n",
       "      <th>7622</th>\n",
       "      <td>person1599_virus_2775.jpeg</td>\n",
       "      <td>dataset/chest-xr-pnm-cvd19-tb/train/PNEUMONIA/...</td>\n",
       "      <td>1</td>\n",
       "      <td>0</td>\n",
       "    </tr>\n",
       "    <tr>\n",
       "      <th>3627</th>\n",
       "      <td>00001248_027.png</td>\n",
       "      <td>dataset/anormal-xr-no_tb/00001248_027.png</td>\n",
       "      <td>1</td>\n",
       "      <td>0</td>\n",
       "    </tr>\n",
       "    <tr>\n",
       "      <th>10348</th>\n",
       "      <td>person1574_bacteria_4118.jpeg</td>\n",
       "      <td>dataset/chest-xr-pnm-cvd19-tb/train/PNEUMONIA/...</td>\n",
       "      <td>1</td>\n",
       "      <td>0</td>\n",
       "    </tr>\n",
       "  </tbody>\n",
       "</table>\n",
       "<p>14182 rows × 4 columns</p>\n",
       "</div>"
      ],
      "text/plain": [
       "                                file  \\\n",
       "5848       NORMAL2-IM-0816-0001.jpeg   \n",
       "3655                00001088_019.png   \n",
       "2312                00000478_002.png   \n",
       "8529       person966_virus_1639.jpeg   \n",
       "9840      person38_bacteria_196.jpeg   \n",
       "...                              ...   \n",
       "7404   person1679_bacteria_4453.jpeg   \n",
       "10789  person1494_bacteria_3901.jpeg   \n",
       "7622      person1599_virus_2775.jpeg   \n",
       "3627                00001248_027.png   \n",
       "10348  person1574_bacteria_4118.jpeg   \n",
       "\n",
       "                                                    path  abnormal  \\\n",
       "5848   dataset/chest-xr-pnm-cvd19-tb/train/NORMAL/NOR...         0   \n",
       "3655           dataset/anormal-xr-no_tb/00001088_019.png         1   \n",
       "2312           dataset/anormal-xr-no_tb/00000478_002.png         1   \n",
       "8529   dataset/chest-xr-pnm-cvd19-tb/train/PNEUMONIA/...         1   \n",
       "9840   dataset/chest-xr-pnm-cvd19-tb/train/PNEUMONIA/...         1   \n",
       "...                                                  ...       ...   \n",
       "7404   dataset/chest-xr-pnm-cvd19-tb/train/PNEUMONIA/...         1   \n",
       "10789  dataset/chest-xr-pnm-cvd19-tb/train/PNEUMONIA/...         1   \n",
       "7622   dataset/chest-xr-pnm-cvd19-tb/train/PNEUMONIA/...         1   \n",
       "3627           dataset/anormal-xr-no_tb/00001248_027.png         1   \n",
       "10348  dataset/chest-xr-pnm-cvd19-tb/train/PNEUMONIA/...         1   \n",
       "\n",
       "       tuberculosis  \n",
       "5848              0  \n",
       "3655              0  \n",
       "2312              0  \n",
       "8529              0  \n",
       "9840              0  \n",
       "...             ...  \n",
       "7404              0  \n",
       "10789             0  \n",
       "7622              0  \n",
       "3627              0  \n",
       "10348             0  \n",
       "\n",
       "[14182 rows x 4 columns]"
      ]
     },
     "execution_count": 7,
     "metadata": {},
     "output_type": "execute_result"
    }
   ],
   "source": [
    "train_df"
   ]
  },
  {
   "cell_type": "code",
   "execution_count": 8,
   "id": "eb99c102-d1ae-4ec9-8610-071b819813b7",
   "metadata": {},
   "outputs": [
    {
     "data": {
      "text/html": [
       "<div>\n",
       "<style scoped>\n",
       "    .dataframe tbody tr th:only-of-type {\n",
       "        vertical-align: middle;\n",
       "    }\n",
       "\n",
       "    .dataframe tbody tr th {\n",
       "        vertical-align: top;\n",
       "    }\n",
       "\n",
       "    .dataframe thead th {\n",
       "        text-align: right;\n",
       "    }\n",
       "</style>\n",
       "<table border=\"1\" class=\"dataframe\">\n",
       "  <thead>\n",
       "    <tr style=\"text-align: right;\">\n",
       "      <th></th>\n",
       "      <th>file</th>\n",
       "      <th>path</th>\n",
       "      <th>abnormal</th>\n",
       "      <th>tuberculosis</th>\n",
       "    </tr>\n",
       "  </thead>\n",
       "  <tbody>\n",
       "    <tr>\n",
       "      <th>14931</th>\n",
       "      <td>Normal-3433.png</td>\n",
       "      <td>dataset/TB_Chest_Radiography_Database/Normal/N...</td>\n",
       "      <td>0</td>\n",
       "      <td>0</td>\n",
       "    </tr>\n",
       "    <tr>\n",
       "      <th>9802</th>\n",
       "      <td>person315_bacteria_1464.jpeg</td>\n",
       "      <td>dataset/chest-xr-pnm-cvd19-tb/train/PNEUMONIA/...</td>\n",
       "      <td>1</td>\n",
       "      <td>0</td>\n",
       "    </tr>\n",
       "    <tr>\n",
       "      <th>6815</th>\n",
       "      <td>NORMAL2-IM-0932-0001.jpeg</td>\n",
       "      <td>dataset/chest-xr-pnm-cvd19-tb/train/NORMAL/NOR...</td>\n",
       "      <td>0</td>\n",
       "      <td>0</td>\n",
       "    </tr>\n",
       "    <tr>\n",
       "      <th>6355</th>\n",
       "      <td>NORMAL2-IM-0577-0001.jpeg</td>\n",
       "      <td>dataset/chest-xr-pnm-cvd19-tb/train/NORMAL/NOR...</td>\n",
       "      <td>0</td>\n",
       "      <td>0</td>\n",
       "    </tr>\n",
       "    <tr>\n",
       "      <th>9561</th>\n",
       "      <td>person1314_virus_2269.jpeg</td>\n",
       "      <td>dataset/chest-xr-pnm-cvd19-tb/train/PNEUMONIA/...</td>\n",
       "      <td>1</td>\n",
       "      <td>0</td>\n",
       "    </tr>\n",
       "    <tr>\n",
       "      <th>...</th>\n",
       "      <td>...</td>\n",
       "      <td>...</td>\n",
       "      <td>...</td>\n",
       "      <td>...</td>\n",
       "    </tr>\n",
       "    <tr>\n",
       "      <th>14503</th>\n",
       "      <td>Normal-2082.png</td>\n",
       "      <td>dataset/TB_Chest_Radiography_Database/Normal/N...</td>\n",
       "      <td>0</td>\n",
       "      <td>0</td>\n",
       "    </tr>\n",
       "    <tr>\n",
       "      <th>742</th>\n",
       "      <td>00000954_006.png</td>\n",
       "      <td>dataset/anormal-xr-no_tb/00000954_006.png</td>\n",
       "      <td>1</td>\n",
       "      <td>0</td>\n",
       "    </tr>\n",
       "    <tr>\n",
       "      <th>8569</th>\n",
       "      <td>person1527_bacteria_3988.jpeg</td>\n",
       "      <td>dataset/chest-xr-pnm-cvd19-tb/train/PNEUMONIA/...</td>\n",
       "      <td>1</td>\n",
       "      <td>0</td>\n",
       "    </tr>\n",
       "    <tr>\n",
       "      <th>871</th>\n",
       "      <td>00000077_000.png</td>\n",
       "      <td>dataset/anormal-xr-no_tb/00000077_000.png</td>\n",
       "      <td>1</td>\n",
       "      <td>0</td>\n",
       "    </tr>\n",
       "    <tr>\n",
       "      <th>6037</th>\n",
       "      <td>IM-0510-0001.jpeg</td>\n",
       "      <td>dataset/chest-xr-pnm-cvd19-tb/train/NORMAL/IM-...</td>\n",
       "      <td>0</td>\n",
       "      <td>0</td>\n",
       "    </tr>\n",
       "  </tbody>\n",
       "</table>\n",
       "<p>1576 rows × 4 columns</p>\n",
       "</div>"
      ],
      "text/plain": [
       "                                file  \\\n",
       "14931                Normal-3433.png   \n",
       "9802    person315_bacteria_1464.jpeg   \n",
       "6815       NORMAL2-IM-0932-0001.jpeg   \n",
       "6355       NORMAL2-IM-0577-0001.jpeg   \n",
       "9561      person1314_virus_2269.jpeg   \n",
       "...                              ...   \n",
       "14503                Normal-2082.png   \n",
       "742                 00000954_006.png   \n",
       "8569   person1527_bacteria_3988.jpeg   \n",
       "871                 00000077_000.png   \n",
       "6037               IM-0510-0001.jpeg   \n",
       "\n",
       "                                                    path  abnormal  \\\n",
       "14931  dataset/TB_Chest_Radiography_Database/Normal/N...         0   \n",
       "9802   dataset/chest-xr-pnm-cvd19-tb/train/PNEUMONIA/...         1   \n",
       "6815   dataset/chest-xr-pnm-cvd19-tb/train/NORMAL/NOR...         0   \n",
       "6355   dataset/chest-xr-pnm-cvd19-tb/train/NORMAL/NOR...         0   \n",
       "9561   dataset/chest-xr-pnm-cvd19-tb/train/PNEUMONIA/...         1   \n",
       "...                                                  ...       ...   \n",
       "14503  dataset/TB_Chest_Radiography_Database/Normal/N...         0   \n",
       "742            dataset/anormal-xr-no_tb/00000954_006.png         1   \n",
       "8569   dataset/chest-xr-pnm-cvd19-tb/train/PNEUMONIA/...         1   \n",
       "871            dataset/anormal-xr-no_tb/00000077_000.png         1   \n",
       "6037   dataset/chest-xr-pnm-cvd19-tb/train/NORMAL/IM-...         0   \n",
       "\n",
       "       tuberculosis  \n",
       "14931             0  \n",
       "9802              0  \n",
       "6815              0  \n",
       "6355              0  \n",
       "9561              0  \n",
       "...             ...  \n",
       "14503             0  \n",
       "742               0  \n",
       "8569              0  \n",
       "871               0  \n",
       "6037              0  \n",
       "\n",
       "[1576 rows x 4 columns]"
      ]
     },
     "execution_count": 8,
     "metadata": {},
     "output_type": "execute_result"
    }
   ],
   "source": [
    "test_df"
   ]
  },
  {
   "cell_type": "markdown",
   "id": "965fa6b0-e1fe-42a3-a3e5-0699d2dda7dc",
   "metadata": {},
   "source": [
    "## Create the Data Generators with Data Augmentation"
   ]
  },
  {
   "cell_type": "code",
   "execution_count": 9,
   "id": "fe2187ee-38e0-40d5-8bec-29643ddb477b",
   "metadata": {},
   "outputs": [],
   "source": [
    "#Creates the image data generator using the ResNet50 preprocess and make the pixel values be between 0 and 1\n",
    "train_generator = ImageDataGenerator(\n",
    "    preprocessing_function = preprocess_input_vgg16,\n",
    "    rescale = 1./255,\n",
    "    validation_split = VAL_SIZE)\n",
    "\n",
    "test_generator = ImageDataGenerator(\n",
    "    preprocessing_function=preprocess_input_vgg16,\n",
    "    rescale = 1./255)"
   ]
  },
  {
   "cell_type": "code",
   "execution_count": 10,
   "id": "9ee45065-28b1-4c8c-8b41-6ce677c9929a",
   "metadata": {},
   "outputs": [
    {
     "name": "stdout",
     "output_type": "stream",
     "text": [
      "Found 11346 validated image filenames.\n",
      "Found 2836 validated image filenames.\n",
      "Found 1576 validated image filenames.\n"
     ]
    }
   ],
   "source": [
    "#To optimize the RAM usage, we use the flow method from generator continuously provide images\n",
    "\n",
    "train_images = train_generator.flow_from_dataframe(\n",
    "    dataframe = train_df,\n",
    "    directory = '',\n",
    "    x_col = 'path',\n",
    "    y_col = ['abnormal','tuberculosis'],\n",
    "    target_size = IMG_SIZE,\n",
    "    color_mode = 'rgb',\n",
    "    class_mode = 'raw',\n",
    "    batch_size = BATCH_SIZE,\n",
    "    shuffle = True,\n",
    "    seed = SEED,\n",
    "    subset = 'training',\n",
    "    rotation_range = 30,\n",
    "    zoom_range = 0.10,\n",
    "    width_shift_range = 0.1,\n",
    "    height_shift_range = 0.1,\n",
    "    shear_range = 0.15,\n",
    "    # horizontal_flip = True,\n",
    "    # vertical_flip = True,\n",
    "    fill_mode = \"nearest\")\n",
    "\n",
    "val_images = train_generator.flow_from_dataframe(\n",
    "    dataframe = train_df,\n",
    "    directory = '',\n",
    "    x_col = 'path',\n",
    "    y_col = ['abnormal','tuberculosis'],\n",
    "    target_size = IMG_SIZE,\n",
    "    color_mode = 'rgb',\n",
    "    class_mode = 'raw',\n",
    "    batch_size = BATCH_SIZE,\n",
    "    shuffle = True,\n",
    "    seed = SEED,\n",
    "    subset = 'validation',\n",
    "    rotation_range = 30,\n",
    "    zoom_range = 0.10,\n",
    "    width_shift_range = 0.1,\n",
    "    height_shift_range = 0.1,\n",
    "    shear_range = 0.15,\n",
    "    # horizontal_flip = True,\n",
    "    # vertical_flip = True,\n",
    "    fill_mode = \"nearest\")\n",
    "\n",
    "test_images = test_generator.flow_from_dataframe(\n",
    "    dataframe=test_df,\n",
    "    directory = '',\n",
    "    x_col = 'path',\n",
    "    y_col = ['abnormal','tuberculosis'],\n",
    "    target_size = IMG_SIZE,\n",
    "    color_mode = 'rgb',\n",
    "    class_mode = 'raw',\n",
    "    batch_size = BATCH_SIZE,\n",
    "    shuffle=False)"
   ]
  },
  {
   "cell_type": "markdown",
   "id": "c72dd8a9-3fd7-4330-a567-ab334c8b98f3",
   "metadata": {},
   "source": [
    "## Train the model and define the metrics functions"
   ]
  },
  {
   "cell_type": "code",
   "execution_count": 11,
   "id": "14b35182-c7e9-4330-a84c-91586b5d612e",
   "metadata": {},
   "outputs": [],
   "source": [
    "from keras import backend as K\n",
    "\n",
    "def recall_m(y_true, y_pred):\n",
    "    true_positives = K.sum(K.round(K.clip(y_true * y_pred, 0, 1)))\n",
    "    possible_positives = K.sum(K.round(K.clip(y_true, 0, 1)))\n",
    "    recall = true_positives / (possible_positives + K.epsilon())\n",
    "    return recall\n",
    "\n",
    "def precision_m(y_true, y_pred):\n",
    "    true_positives = K.sum(K.round(K.clip(y_true * y_pred, 0, 1)))\n",
    "    predicted_positives = K.sum(K.round(K.clip(y_pred, 0, 1)))\n",
    "    precision = true_positives / (predicted_positives + K.epsilon())\n",
    "    return precision\n",
    "\n",
    "def f1_score(y_true, y_pred):\n",
    "    precision = precision_m(y_true, y_pred)\n",
    "    recall = recall_m(y_true, y_pred)\n",
    "    return 2*((precision*recall)/(precision+recall+K.epsilon()))"
   ]
  },
  {
   "cell_type": "code",
   "execution_count": 12,
   "id": "af740e0f-edf4-4846-9ed4-67025aaf6e6a",
   "metadata": {},
   "outputs": [
    {
     "name": "stderr",
     "output_type": "stream",
     "text": [
      "2022-06-02 13:49:49.137413: I tensorflow/core/platform/cpu_feature_guard.cc:142] This TensorFlow binary is optimized with oneAPI Deep Neural Network Library (oneDNN) to use the following CPU instructions in performance-critical operations:  SSE4.1 SSE4.2 AVX AVX2 FMA\n",
      "To enable them in other operations, rebuild TensorFlow with the appropriate compiler flags.\n",
      "2022-06-02 13:49:49.138095: I tensorflow/compiler/jit/xla_gpu_device.cc:99] Not creating XLA devices, tf_xla_enable_xla_devices not set\n",
      "2022-06-02 13:49:49.138333: I tensorflow/stream_executor/cuda/cuda_gpu_executor.cc:941] successful NUMA node read from SysFS had negative value (-1), but there must be at least one NUMA node, so returning NUMA node zero\n",
      "2022-06-02 13:49:49.138465: I tensorflow/core/common_runtime/gpu/gpu_device.cc:1720] Found device 0 with properties: \n",
      "pciBusID: 0000:01:00.0 name: NVIDIA GeForce GTX 1650 computeCapability: 7.5\n",
      "coreClock: 1.56GHz coreCount: 16 deviceMemorySize: 3.82GiB deviceMemoryBandwidth: 119.24GiB/s\n",
      "2022-06-02 13:49:49.138509: I tensorflow/stream_executor/platform/default/dso_loader.cc:49] Successfully opened dynamic library libcudart.so.10.1\n",
      "2022-06-02 13:49:49.138547: I tensorflow/stream_executor/platform/default/dso_loader.cc:49] Successfully opened dynamic library libcublas.so.10\n",
      "2022-06-02 13:49:49.138563: I tensorflow/stream_executor/platform/default/dso_loader.cc:49] Successfully opened dynamic library libcublasLt.so.10\n",
      "2022-06-02 13:49:49.138576: I tensorflow/stream_executor/platform/default/dso_loader.cc:49] Successfully opened dynamic library libcufft.so.10\n",
      "2022-06-02 13:49:49.138589: I tensorflow/stream_executor/platform/default/dso_loader.cc:49] Successfully opened dynamic library libcurand.so.10\n",
      "2022-06-02 13:49:49.138602: I tensorflow/stream_executor/platform/default/dso_loader.cc:49] Successfully opened dynamic library libcusolver.so.10\n",
      "2022-06-02 13:49:49.138615: I tensorflow/stream_executor/platform/default/dso_loader.cc:49] Successfully opened dynamic library libcusparse.so.10\n",
      "2022-06-02 13:49:49.138628: I tensorflow/stream_executor/platform/default/dso_loader.cc:49] Successfully opened dynamic library libcudnn.so.7\n",
      "2022-06-02 13:49:49.138696: I tensorflow/stream_executor/cuda/cuda_gpu_executor.cc:941] successful NUMA node read from SysFS had negative value (-1), but there must be at least one NUMA node, so returning NUMA node zero\n",
      "2022-06-02 13:49:49.138830: I tensorflow/stream_executor/cuda/cuda_gpu_executor.cc:941] successful NUMA node read from SysFS had negative value (-1), but there must be at least one NUMA node, so returning NUMA node zero\n",
      "2022-06-02 13:49:49.138921: I tensorflow/core/common_runtime/gpu/gpu_device.cc:1862] Adding visible gpu devices: 0\n",
      "2022-06-02 13:49:49.138946: I tensorflow/stream_executor/platform/default/dso_loader.cc:49] Successfully opened dynamic library libcudart.so.10.1\n",
      "2022-06-02 13:49:49.609272: I tensorflow/core/common_runtime/gpu/gpu_device.cc:1261] Device interconnect StreamExecutor with strength 1 edge matrix:\n",
      "2022-06-02 13:49:49.609290: I tensorflow/core/common_runtime/gpu/gpu_device.cc:1267]      0 \n",
      "2022-06-02 13:49:49.609295: I tensorflow/core/common_runtime/gpu/gpu_device.cc:1280] 0:   N \n",
      "2022-06-02 13:49:49.609491: I tensorflow/stream_executor/cuda/cuda_gpu_executor.cc:941] successful NUMA node read from SysFS had negative value (-1), but there must be at least one NUMA node, so returning NUMA node zero\n",
      "2022-06-02 13:49:49.609653: I tensorflow/stream_executor/cuda/cuda_gpu_executor.cc:941] successful NUMA node read from SysFS had negative value (-1), but there must be at least one NUMA node, so returning NUMA node zero\n",
      "2022-06-02 13:49:49.609778: I tensorflow/stream_executor/cuda/cuda_gpu_executor.cc:941] successful NUMA node read from SysFS had negative value (-1), but there must be at least one NUMA node, so returning NUMA node zero\n",
      "2022-06-02 13:49:49.609875: I tensorflow/core/common_runtime/gpu/gpu_device.cc:1406] Created TensorFlow device (/job:localhost/replica:0/task:0/device:GPU:0 with 3373 MB memory) -> physical GPU (device: 0, name: NVIDIA GeForce GTX 1650, pci bus id: 0000:01:00.0, compute capability: 7.5)\n"
     ]
    }
   ],
   "source": [
    "#Load the Resnet 50 with its tops layers\n",
    "# resnet50 = ResNet50(\n",
    "#     input_shape = INPUT_SHAPE,\n",
    "#     include_top = False,\n",
    "#     weights = 'imagenet',\n",
    "#     pooling = 'avg'\n",
    "# )\n",
    "\n",
    "vgg16 = VGG16(\n",
    "    input_shape = INPUT_SHAPE,\n",
    "    include_top = False,\n",
    "    weights = 'imagenet',\n",
    "    pooling = 'avg'\n",
    ")"
   ]
  },
  {
   "cell_type": "code",
   "execution_count": 13,
   "id": "098b8d5f-c984-498e-b4bf-b1ef7844370e",
   "metadata": {},
   "outputs": [],
   "source": [
    "#The ResNet model it is without the top layers so we customize to fits our needs\n",
    "inputs = vgg16.input\n",
    "\n",
    "layer = Dense(128, activation='relu')(vgg16.output)\n",
    "layer = Dense(128, activation='relu')(layer)\n",
    "\n",
    "outputs = Dense(2, activation='sigmoid')(layer)\n",
    "\n",
    "model = Model(inputs = inputs, outputs = outputs)\n",
    "\n",
    "model.compile(\n",
    "    optimizer='adam',\n",
    "    loss='mse',\n",
    "    metrics=['accuracy',f1_score,precision_m, recall_m])\n"
   ]
  },
  {
   "cell_type": "code",
   "execution_count": 14,
   "id": "008942bf-4f70-4033-9a4a-7cff31ca901a",
   "metadata": {},
   "outputs": [],
   "source": [
    "#Defines the callbacks to use during training\n",
    "\n",
    "#Reduces learning rate on plateou\n",
    "reduceLROnplateou = ReduceLROnPlateau(\n",
    "    monitor='val_loss',\n",
    "    factor=0.5,\n",
    "    patience=5,\n",
    "    min_lr=0.001)\n",
    "\n",
    "#stops training when the validation loss doesn't improve\n",
    "earlyStopping = EarlyStopping(\n",
    "    monitor='val_loss',\n",
    "    patience=10,\n",
    "    restore_best_weights = True)\n",
    "\n",
    "#Saves the model checkpoint each time the validation loss improves\n",
    "checkPoint = ModelCheckpoint(\n",
    "    filepath = CHECKPOINT_PATH,\n",
    "    monitor='val_loss',\n",
    "    save_best_only=True)\n",
    "\n",
    "callbacks = [reduceLROnplateou, earlyStopping, checkPoint]"
   ]
  },
  {
   "cell_type": "code",
   "execution_count": 15,
   "id": "7651ad71-49aa-440f-87f2-110b0671916b",
   "metadata": {
    "tags": []
   },
   "outputs": [
    {
     "name": "stderr",
     "output_type": "stream",
     "text": [
      "2022-06-02 13:49:50.010264: I tensorflow/compiler/mlir/mlir_graph_optimization_pass.cc:116] None of the MLIR optimization passes are enabled (registered 2)\n",
      "2022-06-02 13:49:50.028211: I tensorflow/core/platform/profile_utils/cpu_utils.cc:112] CPU Frequency: 2599990000 Hz\n"
     ]
    },
    {
     "name": "stdout",
     "output_type": "stream",
     "text": [
      "Epoch 1/3\n"
     ]
    },
    {
     "name": "stderr",
     "output_type": "stream",
     "text": [
      "2022-06-02 13:49:50.830981: I tensorflow/stream_executor/platform/default/dso_loader.cc:49] Successfully opened dynamic library libcublas.so.10\n",
      "2022-06-02 13:49:51.114610: I tensorflow/stream_executor/platform/default/dso_loader.cc:49] Successfully opened dynamic library libcudnn.so.7\n",
      "2022-06-02 13:49:52.031266: W tensorflow/stream_executor/gpu/asm_compiler.cc:63] Running ptxas --version returned 256\n",
      "2022-06-02 13:49:52.077629: W tensorflow/stream_executor/gpu/redzone_allocator.cc:314] Internal: ptxas exited with non-zero error code 256, output: \n",
      "Relying on driver to perform ptx compilation. \n",
      "Modify $PATH to customize ptxas location.\n",
      "This message will be only logged once.\n",
      "2022-06-02 13:49:53.164567: W tensorflow/core/common_runtime/bfc_allocator.cc:314] Garbage collection: deallocate free memory regions (i.e., allocations) so that we can re-allocate a larger region to avoid OOM due to memory fragmentation. If you see this message frequently, you are running near the threshold of the available device memory and re-allocation may incur great performance overhead. You may try smaller batch sizes to observe the performance impact. Set TF_ENABLE_GPU_GARBAGE_COLLECTION=false if you'd like to disable this feature.\n",
      "2022-06-02 13:49:53.219402: I tensorflow/stream_executor/cuda/cuda_driver.cc:789] failed to allocate 2.79G (3001679872 bytes) from device: CUDA_ERROR_OUT_OF_MEMORY: out of memory\n"
     ]
    },
    {
     "name": "stdout",
     "output_type": "stream",
     "text": [
      "1891/1891 [==============================] - 450s 227ms/step - loss: 0.3784 - accuracy: 1.0000 - f1_score: 0.0047 - precision_m: 0.0033 - recall_m: 0.0081 - val_loss: 0.3958 - val_accuracy: 1.0000 - val_f1_score: 0.0000e+00 - val_precision_m: 0.0000e+00 - val_recall_m: 0.0000e+00\n",
      "Epoch 2/3\n",
      "1891/1891 [==============================] - 423s 223ms/step - loss: 0.3807 - accuracy: 1.0000 - f1_score: 0.0000e+00 - precision_m: 0.0000e+00 - recall_m: 0.0000e+00 - val_loss: 0.3958 - val_accuracy: 1.0000 - val_f1_score: 0.0000e+00 - val_precision_m: 0.0000e+00 - val_recall_m: 0.0000e+00\n",
      "Epoch 3/3\n",
      "1891/1891 [==============================] - 424s 224ms/step - loss: 0.3797 - accuracy: 1.0000 - f1_score: 0.0000e+00 - precision_m: 0.0000e+00 - recall_m: 0.0000e+00 - val_loss: 0.3958 - val_accuracy: 1.0000 - val_f1_score: 0.0000e+00 - val_precision_m: 0.0000e+00 - val_recall_m: 0.0000e+00\n"
     ]
    }
   ],
   "source": [
    "#Trains the model and saves the training history\n",
    "history = model.fit(\n",
    "    train_images,\n",
    "    validation_data = val_images,\n",
    "    epochs = EPOCHS,\n",
    "    steps_per_epoch = len(train_images),\n",
    "    validation_steps = len(val_images),\n",
    "    callbacks = callbacks,\n",
    "    workers = 6\n",
    ")"
   ]
  },
  {
   "cell_type": "markdown",
   "id": "105e9b2b-6d17-4a4b-ad0f-7ecb98efff5a",
   "metadata": {},
   "source": [
    "## Plot the Loss and Accuracy"
   ]
  },
  {
   "cell_type": "code",
   "execution_count": 16,
   "id": "146ed4d1-aafb-4692-b64a-2b9b19f0bbee",
   "metadata": {},
   "outputs": [
    {
     "data": {
      "text/plain": [
       "dict_keys(['loss', 'accuracy', 'f1_score', 'precision_m', 'recall_m', 'val_loss', 'val_accuracy', 'val_f1_score', 'val_precision_m', 'val_recall_m', 'lr'])"
      ]
     },
     "execution_count": 16,
     "metadata": {},
     "output_type": "execute_result"
    }
   ],
   "source": [
    "history.history.keys()"
   ]
  },
  {
   "cell_type": "code",
   "execution_count": 17,
   "id": "2864f148-46ff-4f8f-96e5-2790cea47566",
   "metadata": {},
   "outputs": [
    {
     "data": {
      "image/png": "[encoded data removed]",
      "text/plain": [
       "<Figure size 432x288 with 1 Axes>"
      ]
     },
     "metadata": {
      "needs_background": "light"
     },
     "output_type": "display_data"
    }
   ],
   "source": [
    "plt.figure()\n",
    "plt.plot(history.history[\"loss\"],label = \"Train Loss\", color = \"black\")\n",
    "plt.plot(history.history[\"val_loss\"],label = \"Validation Loss\", color = \"darkred\", linestyle=\"dashed\",markeredgecolor = \"purple\", markeredgewidth = 2)\n",
    "plt.title(\"Model Loss\", color = \"darkred\", size = 13)\n",
    "plt.legend()\n",
    "plt.show()"
   ]
  },
  {
   "cell_type": "code",
   "execution_count": 18,
   "id": "0bf8cb5b-57ba-4150-8691-7a51f67a2a04",
   "metadata": {},
   "outputs": [
    {
     "data": {
      "image/png": "[encoded data removed]",
      "text/plain": [
       "<Figure size 432x288 with 1 Axes>"
      ]
     },
     "metadata": {
      "needs_background": "light"
     },
     "output_type": "display_data"
    }
   ],
   "source": [
    "plt.figure()\n",
    "plt.plot(history.history[\"accuracy\"],label = \"Train Accuracy\", color = \"black\")\n",
    "plt.plot(history.history[\"val_accuracy\"],label = \"Validation Accuracy\", color = \"darkred\", linestyle=\"dashed\",markeredgecolor = \"purple\", markeredgewidth = 2)\n",
    "plt.title(\"Model Accuracy\", color = \"darkred\", size = 13)\n",
    "plt.legend()\n",
    "plt.show()"
   ]
  },
  {
   "cell_type": "markdown",
   "id": "b4503f52-a96a-49fe-b2de-d372808c7854",
   "metadata": {},
   "source": [
    "## Load the best model to perform inference"
   ]
  },
  {
   "cell_type": "code",
   "execution_count": 19,
   "id": "a19a68ea-d587-49d2-b6f4-60f3d9366ff5",
   "metadata": {},
   "outputs": [],
   "source": [
    "from tensorflow.keras.models import load_model\n",
    "from sklearn.metrics import accuracy_score,classification_report"
   ]
  },
  {
   "cell_type": "code",
   "execution_count": 20,
   "id": "e67ff0da-c255-41c0-936c-bfbfdc7fb4df",
   "metadata": {},
   "outputs": [],
   "source": [
    "dependencies = {\n",
    "    'f1_score': f1_score,\n",
    "    'precision_m': precision_m,\n",
    "    'recall_m': recall_m\n",
    "}\n",
    "model_pred = load_model('model/epoch-1_valloss-0.38.hdf5', custom_objects=dependencies)"
   ]
  },
  {
   "cell_type": "code",
   "execution_count": 21,
   "id": "ab9cb372-e250-423d-9c09-186ce5d206bf",
   "metadata": {},
   "outputs": [],
   "source": [
    "pred = model_pred.predict(\n",
    "    test_images,\n",
    "    steps = len(test_images),\n",
    "    workers = 6)"
   ]
  },
  {
   "cell_type": "code",
   "execution_count": 25,
   "id": "41cf328f-0ce4-4da2-9b1b-f8874d04afa2",
   "metadata": {},
   "outputs": [
    {
     "data": {
      "text/plain": [
       "array([[0., 0.],\n",
       "       [0., 0.],\n",
       "       [0., 0.],\n",
       "       [0., 0.],\n",
       "       [0., 0.],\n",
       "       [0., 0.],\n",
       "       [0., 0.],\n",
       "       [0., 0.],\n",
       "       [0., 0.],\n",
       "       [0., 0.],\n",
       "       [0., 0.],\n",
       "       [0., 0.],\n",
       "       [0., 0.],\n",
       "       [0., 0.],\n",
       "       [0., 0.],\n",
       "       [0., 0.],\n",
       "       [0., 0.],\n",
       "       [0., 0.],\n",
       "       [0., 0.],\n",
       "       [0., 0.],\n",
       "       [0., 0.],\n",
       "       [0., 0.],\n",
       "       [0., 0.],\n",
       "       [0., 0.],\n",
       "       [0., 0.],\n",
       "       [0., 0.],\n",
       "       [0., 0.],\n",
       "       [0., 0.],\n",
       "       [0., 0.],\n",
       "       [0., 0.],\n",
       "       [0., 0.],\n",
       "       [0., 0.],\n",
       "       [0., 0.],\n",
       "       [0., 0.],\n",
       "       [0., 0.],\n",
       "       [0., 0.],\n",
       "       [0., 0.],\n",
       "       [0., 0.],\n",
       "       [0., 0.],\n",
       "       [0., 0.],\n",
       "       [0., 0.],\n",
       "       [0., 0.],\n",
       "       [0., 0.],\n",
       "       [0., 0.],\n",
       "       [0., 0.],\n",
       "       [0., 0.],\n",
       "       [0., 0.],\n",
       "       [0., 0.],\n",
       "       [0., 0.],\n",
       "       [0., 0.]], dtype=float32)"
      ]
     },
     "execution_count": 25,
     "metadata": {},
     "output_type": "execute_result"
    }
   ],
   "source": [
    "pred[:50]"
   ]
  },
  {
   "cell_type": "code",
   "execution_count": 26,
   "id": "0524c539-939e-4913-97ce-8620df7d75cb",
   "metadata": {},
   "outputs": [],
   "source": [
    "# y_test = list(test_df[['abnormal','tuberculosis']])\n",
    "# acc = accuracy_score(y_test,pred)\n",
    "# print(f'Accuracy on the test set: {acc * 100:.2f}%')"
   ]
  },
  {
   "cell_type": "code",
   "execution_count": null,
   "id": "8d46e44a-c01b-453f-8b42-a3f0cbf2f942",
   "metadata": {},
   "outputs": [],
   "source": []
  }
 ],
 "metadata": {
  "kernelspec": {
   "display_name": "tf_tuberculosis",
   "language": "python",
   "name": "tf_tuberculosis"
  },
  "language_info": {
   "codemirror_mode": {
    "name": "ipython",
    "version": 3
   },
   "file_extension": ".py",
   "mimetype": "text/x-python",
   "name": "python",
   "nbconvert_exporter": "python",
   "pygments_lexer": "ipython3",
   "version": "3.9.12"
  }
 },
 "nbformat": 4,
 "nbformat_minor": 5
}
